{
  "nbformat": 4,
  "nbformat_minor": 0,
  "metadata": {
    "colab": {
      "name": "Dphi_Microorganisms_Classification.ipynb",
      "provenance": [],
      "collapsed_sections": []
    },
    "kernelspec": {
      "name": "python3",
      "display_name": "Python 3"
    }
  },
  "cells": [
    {
      "cell_type": "code",
      "metadata": {
        "id": "QzFGcwWBg0mJ"
      },
      "source": [
        "import numpy as np  # for matrix operations\r\n",
        "import pandas as pd  # for loading CSV Files\r\n",
        "import matplotlib.pyplot as plt # for Data Visualization"
      ],
      "execution_count": 207,
      "outputs": []
    },
    {
      "cell_type": "code",
      "metadata": {
        "id": "NoDZCFxRg5N1"
      },
      "source": [
        "mo_data = pd.read_csv(\"https://raw.githubusercontent.com/dphi-official/Datasets/master/sukhna_dhanas/train_set_label.csv\" )"
      ],
      "execution_count": 208,
      "outputs": []
    },
    {
      "cell_type": "code",
      "metadata": {
        "colab": {
          "base_uri": "https://localhost:8080/",
          "height": 222
        },
        "id": "qro4-KxAg8O7",
        "outputId": "2f783edc-3470-493a-d4f2-b097784f86b5"
      },
      "source": [
        "mo_data.head()"
      ],
      "execution_count": 209,
      "outputs": [
        {
          "output_type": "execute_result",
          "data": {
            "text/html": [
              "<div>\n",
              "<style scoped>\n",
              "    .dataframe tbody tr th:only-of-type {\n",
              "        vertical-align: middle;\n",
              "    }\n",
              "\n",
              "    .dataframe tbody tr th {\n",
              "        vertical-align: top;\n",
              "    }\n",
              "\n",
              "    .dataframe thead th {\n",
              "        text-align: right;\n",
              "    }\n",
              "</style>\n",
              "<table border=\"1\" class=\"dataframe\">\n",
              "  <thead>\n",
              "    <tr style=\"text-align: right;\">\n",
              "      <th></th>\n",
              "      <th>Solidity</th>\n",
              "      <th>Eccentricity</th>\n",
              "      <th>EquivDiameter</th>\n",
              "      <th>Extrema</th>\n",
              "      <th>FilledArea</th>\n",
              "      <th>Extent</th>\n",
              "      <th>Orientation</th>\n",
              "      <th>EulerNumber</th>\n",
              "      <th>BoundingBox1</th>\n",
              "      <th>BoundingBox2</th>\n",
              "      <th>BoundingBox3</th>\n",
              "      <th>BoundingBox4</th>\n",
              "      <th>ConvexHull1</th>\n",
              "      <th>ConvexHull2</th>\n",
              "      <th>ConvexHull3</th>\n",
              "      <th>ConvexHull4</th>\n",
              "      <th>MajorAxisLength</th>\n",
              "      <th>MinorAxisLength</th>\n",
              "      <th>Perimeter</th>\n",
              "      <th>ConvexArea</th>\n",
              "      <th>Centroid1</th>\n",
              "      <th>Centroid2</th>\n",
              "      <th>Area</th>\n",
              "      <th>microorganism</th>\n",
              "    </tr>\n",
              "  </thead>\n",
              "  <tbody>\n",
              "    <tr>\n",
              "      <th>0</th>\n",
              "      <td>0.711636</td>\n",
              "      <td>0.673498</td>\n",
              "      <td>0.109069</td>\n",
              "      <td>0.870544</td>\n",
              "      <td>0.010808</td>\n",
              "      <td>0.660599</td>\n",
              "      <td>0.094353</td>\n",
              "      <td>0.987915</td>\n",
              "      <td>0.870476</td>\n",
              "      <td>0.447276</td>\n",
              "      <td>0.029022</td>\n",
              "      <td>0.058923</td>\n",
              "      <td>0.875395</td>\n",
              "      <td>0.875395</td>\n",
              "      <td>0.877460</td>\n",
              "      <td>0.871746</td>\n",
              "      <td>0.025669</td>\n",
              "      <td>0.028256</td>\n",
              "      <td>0.010776</td>\n",
              "      <td>0.001776</td>\n",
              "      <td>0.878873</td>\n",
              "      <td>0.453973</td>\n",
              "      <td>0.020195</td>\n",
              "      <td>1</td>\n",
              "    </tr>\n",
              "    <tr>\n",
              "      <th>1</th>\n",
              "      <td>0.184271</td>\n",
              "      <td>0.865533</td>\n",
              "      <td>0.181675</td>\n",
              "      <td>0.306442</td>\n",
              "      <td>0.021235</td>\n",
              "      <td>0.183804</td>\n",
              "      <td>0.484926</td>\n",
              "      <td>0.974488</td>\n",
              "      <td>0.284444</td>\n",
              "      <td>0.345343</td>\n",
              "      <td>0.148896</td>\n",
              "      <td>0.115320</td>\n",
              "      <td>0.304870</td>\n",
              "      <td>0.304870</td>\n",
              "      <td>0.295238</td>\n",
              "      <td>0.290794</td>\n",
              "      <td>0.128062</td>\n",
              "      <td>0.077815</td>\n",
              "      <td>0.044747</td>\n",
              "      <td>0.016309</td>\n",
              "      <td>0.325508</td>\n",
              "      <td>0.360384</td>\n",
              "      <td>0.045702</td>\n",
              "      <td>2</td>\n",
              "    </tr>\n",
              "    <tr>\n",
              "      <th>2</th>\n",
              "      <td>0.431175</td>\n",
              "      <td>0.679469</td>\n",
              "      <td>0.172644</td>\n",
              "      <td>0.750469</td>\n",
              "      <td>0.020929</td>\n",
              "      <td>0.380940</td>\n",
              "      <td>0.891717</td>\n",
              "      <td>0.946626</td>\n",
              "      <td>0.707302</td>\n",
              "      <td>0.227592</td>\n",
              "      <td>0.066246</td>\n",
              "      <td>0.109428</td>\n",
              "      <td>0.728653</td>\n",
              "      <td>0.728653</td>\n",
              "      <td>0.729524</td>\n",
              "      <td>0.723810</td>\n",
              "      <td>0.065495</td>\n",
              "      <td>0.062696</td>\n",
              "      <td>0.049242</td>\n",
              "      <td>0.006400</td>\n",
              "      <td>0.739531</td>\n",
              "      <td>0.255860</td>\n",
              "      <td>0.042004</td>\n",
              "      <td>2</td>\n",
              "    </tr>\n",
              "    <tr>\n",
              "      <th>3</th>\n",
              "      <td>0.712849</td>\n",
              "      <td>0.991839</td>\n",
              "      <td>0.240241</td>\n",
              "      <td>0.271420</td>\n",
              "      <td>0.036976</td>\n",
              "      <td>0.700643</td>\n",
              "      <td>0.016835</td>\n",
              "      <td>0.975159</td>\n",
              "      <td>0.268571</td>\n",
              "      <td>0.468366</td>\n",
              "      <td>0.023344</td>\n",
              "      <td>0.249158</td>\n",
              "      <td>0.270715</td>\n",
              "      <td>0.270715</td>\n",
              "      <td>0.269841</td>\n",
              "      <td>0.268571</td>\n",
              "      <td>0.146561</td>\n",
              "      <td>0.020286</td>\n",
              "      <td>0.035455</td>\n",
              "      <td>0.006678</td>\n",
              "      <td>0.267614</td>\n",
              "      <td>0.568813</td>\n",
              "      <td>0.073303</td>\n",
              "      <td>4</td>\n",
              "    </tr>\n",
              "    <tr>\n",
              "      <th>4</th>\n",
              "      <td>0.338077</td>\n",
              "      <td>0.996782</td>\n",
              "      <td>0.123578</td>\n",
              "      <td>0.045654</td>\n",
              "      <td>0.011389</td>\n",
              "      <td>0.088682</td>\n",
              "      <td>0.219150</td>\n",
              "      <td>0.982544</td>\n",
              "      <td>0.041905</td>\n",
              "      <td>0.630931</td>\n",
              "      <td>0.100946</td>\n",
              "      <td>0.187710</td>\n",
              "      <td>0.041746</td>\n",
              "      <td>0.041746</td>\n",
              "      <td>0.041905</td>\n",
              "      <td>0.041905</td>\n",
              "      <td>0.134704</td>\n",
              "      <td>0.011038</td>\n",
              "      <td>0.034491</td>\n",
              "      <td>0.004833</td>\n",
              "      <td>0.071762</td>\n",
              "      <td>0.699979</td>\n",
              "      <td>0.024521</td>\n",
              "      <td>2</td>\n",
              "    </tr>\n",
              "  </tbody>\n",
              "</table>\n",
              "</div>"
            ],
            "text/plain": [
              "   Solidity  Eccentricity  EquivDiameter  ...  Centroid2      Area  microorganism\n",
              "0  0.711636      0.673498       0.109069  ...   0.453973  0.020195              1\n",
              "1  0.184271      0.865533       0.181675  ...   0.360384  0.045702              2\n",
              "2  0.431175      0.679469       0.172644  ...   0.255860  0.042004              2\n",
              "3  0.712849      0.991839       0.240241  ...   0.568813  0.073303              4\n",
              "4  0.338077      0.996782       0.123578  ...   0.699979  0.024521              2\n",
              "\n",
              "[5 rows x 24 columns]"
            ]
          },
          "metadata": {
            "tags": []
          },
          "execution_count": 209
        }
      ]
    },
    {
      "cell_type": "code",
      "metadata": {
        "colab": {
          "base_uri": "https://localhost:8080/"
        },
        "id": "POgUHYqSg_Ax",
        "outputId": "bbd3b25a-5ba8-43f4-badf-2566ec89bade"
      },
      "source": [
        "mo_data.shape"
      ],
      "execution_count": 210,
      "outputs": [
        {
          "output_type": "execute_result",
          "data": {
            "text/plain": [
              "(13824, 24)"
            ]
          },
          "metadata": {
            "tags": []
          },
          "execution_count": 210
        }
      ]
    },
    {
      "cell_type": "code",
      "metadata": {
        "colab": {
          "base_uri": "https://localhost:8080/"
        },
        "id": "-4G2zrGAoAln",
        "outputId": "7c8dc258-5cc2-4d98-866f-55b8cde93a6a"
      },
      "source": [
        "list(set(mo_data.microorganism))"
      ],
      "execution_count": 211,
      "outputs": [
        {
          "output_type": "execute_result",
          "data": {
            "text/plain": [
              "[1, 2, 3, 4]"
            ]
          },
          "metadata": {
            "tags": []
          },
          "execution_count": 211
        }
      ]
    },
    {
      "cell_type": "code",
      "metadata": {
        "colab": {
          "base_uri": "https://localhost:8080/"
        },
        "id": "BtuodiOZoBJy",
        "outputId": "dce2c5e5-c6a6-4626-c26c-5c6a8995a4bd"
      },
      "source": [
        "X = mo_data.drop(['microorganism'], axis=1)\r\n",
        "Y = mo_data.microorganism\r\n",
        "\r\n",
        "print(X.shape)\r\n",
        "print(Y.shape)\r\n",
        "\r\n",
        "xData = X.values\r\n",
        "yData = Y.values"
      ],
      "execution_count": 212,
      "outputs": [
        {
          "output_type": "stream",
          "text": [
            "(13824, 23)\n",
            "(13824,)\n"
          ],
          "name": "stdout"
        }
      ]
    },
    {
      "cell_type": "code",
      "metadata": {
        "id": "irivpyDDoEwH"
      },
      "source": [
        "from sklearn.model_selection import train_test_split \r\n",
        "\r\n",
        "xTrain, xTest, yTrain, yTest = train_test_split( \r\n",
        "        xData, yData, test_size = 0.33, random_state = 365) "
      ],
      "execution_count": 213,
      "outputs": []
    },
    {
      "cell_type": "code",
      "metadata": {
        "colab": {
          "base_uri": "https://localhost:8080/"
        },
        "id": "71OTiCRFoJQO",
        "outputId": "5ac5a98d-837f-41a2-bf13-3d90b363b3f1"
      },
      "source": [
        "from sklearn.linear_model import LogisticRegression\r\n",
        "logreg = LogisticRegression()\r\n",
        "logreg.fit(xTrain,yTrain)\r\n",
        "y_pred=logreg.predict(xTest)\r\n",
        "\r\n",
        "from sklearn import metrics\r\n",
        "print(\"Accuracy:\",metrics.accuracy_score(yTest, y_pred))"
      ],
      "execution_count": 214,
      "outputs": [
        {
          "output_type": "stream",
          "text": [
            "Accuracy: 0.7665497588776852\n"
          ],
          "name": "stdout"
        },
        {
          "output_type": "stream",
          "text": [
            "/usr/local/lib/python3.6/dist-packages/sklearn/linear_model/_logistic.py:940: ConvergenceWarning: lbfgs failed to converge (status=1):\n",
            "STOP: TOTAL NO. of ITERATIONS REACHED LIMIT.\n",
            "\n",
            "Increase the number of iterations (max_iter) or scale the data as shown in:\n",
            "    https://scikit-learn.org/stable/modules/preprocessing.html\n",
            "Please also refer to the documentation for alternative solver options:\n",
            "    https://scikit-learn.org/stable/modules/linear_model.html#logistic-regression\n",
            "  extra_warning_msg=_LOGISTIC_SOLVER_CONVERGENCE_MSG)\n"
          ],
          "name": "stderr"
        }
      ]
    },
    {
      "cell_type": "code",
      "metadata": {
        "colab": {
          "base_uri": "https://localhost:8080/"
        },
        "id": "s7Db5X1boNyv",
        "outputId": "f9832db5-7906-49a8-f285-481cdd941823"
      },
      "source": [
        "from xgboost import XGBClassifier\r\n",
        "from sklearn.metrics import accuracy_score\r\n",
        "model = XGBClassifier()\r\n",
        "model.fit(xTrain, yTrain)\r\n",
        "y_pred=model.predict(xTest)\r\n",
        "print(accuracy_score(yTest, y_pred)*100)"
      ],
      "execution_count": 215,
      "outputs": [
        {
          "output_type": "stream",
          "text": [
            "92.30600613765893\n"
          ],
          "name": "stdout"
        }
      ]
    },
    {
      "cell_type": "code",
      "metadata": {
        "colab": {
          "base_uri": "https://localhost:8080/"
        },
        "id": "3saRanP8oZDb",
        "outputId": "bef4710e-472b-4a8a-b9b6-21593f39e12a"
      },
      "source": [
        "from sklearn.ensemble import RandomForestClassifier\r\n",
        "clf = RandomForestClassifier(max_depth=25, random_state=365)\r\n",
        "clf.fit(xTrain, yTrain)"
      ],
      "execution_count": 216,
      "outputs": [
        {
          "output_type": "execute_result",
          "data": {
            "text/plain": [
              "RandomForestClassifier(bootstrap=True, ccp_alpha=0.0, class_weight=None,\n",
              "                       criterion='gini', max_depth=25, max_features='auto',\n",
              "                       max_leaf_nodes=None, max_samples=None,\n",
              "                       min_impurity_decrease=0.0, min_impurity_split=None,\n",
              "                       min_samples_leaf=1, min_samples_split=2,\n",
              "                       min_weight_fraction_leaf=0.0, n_estimators=100,\n",
              "                       n_jobs=None, oob_score=False, random_state=365,\n",
              "                       verbose=0, warm_start=False)"
            ]
          },
          "metadata": {
            "tags": []
          },
          "execution_count": 216
        }
      ]
    },
    {
      "cell_type": "code",
      "metadata": {
        "colab": {
          "base_uri": "https://localhost:8080/"
        },
        "id": "cIH7GSu_ogVg",
        "outputId": "aab79d86-b4f0-428b-b4db-2fd0069eee94"
      },
      "source": [
        "y_pred=model.predict(xTest)\r\n",
        "print(accuracy_score(yTest, y_pred)*100)"
      ],
      "execution_count": 217,
      "outputs": [
        {
          "output_type": "stream",
          "text": [
            "92.30600613765893\n"
          ],
          "name": "stdout"
        }
      ]
    },
    {
      "cell_type": "code",
      "metadata": {
        "colab": {
          "base_uri": "https://localhost:8080/"
        },
        "id": "tOXgg4haomcN",
        "outputId": "421db843-560a-44dd-8d21-04fcff85ac65"
      },
      "source": [
        "from sklearn.svm import SVC\r\n",
        "from sklearn.preprocessing import StandardScaler\r\n",
        "from sklearn.pipeline import make_pipeline\r\n",
        "clf = make_pipeline(StandardScaler(), SVC(gamma='auto'))\r\n",
        "clf.fit(xTrain, yTrain)\r\n",
        "\r\n",
        "y_pred=model.predict(xTest)\r\n",
        "print(accuracy_score(yTest, y_pred)*100)"
      ],
      "execution_count": 218,
      "outputs": [
        {
          "output_type": "stream",
          "text": [
            "92.30600613765893\n"
          ],
          "name": "stdout"
        }
      ]
    },
    {
      "cell_type": "code",
      "metadata": {
        "colab": {
          "base_uri": "https://localhost:8080/",
          "height": 222
        },
        "id": "a2cy4z76osLV",
        "outputId": "3dca04fc-2536-4dc2-d00f-79950a2c5078"
      },
      "source": [
        "test_data = pd.read_csv('https://raw.githubusercontent.com/dphi-official/Datasets/master/sukhna_dhanas/test_set_label.csv')\r\n",
        "test_data.head()\r\n"
      ],
      "execution_count": 219,
      "outputs": [
        {
          "output_type": "execute_result",
          "data": {
            "text/html": [
              "<div>\n",
              "<style scoped>\n",
              "    .dataframe tbody tr th:only-of-type {\n",
              "        vertical-align: middle;\n",
              "    }\n",
              "\n",
              "    .dataframe tbody tr th {\n",
              "        vertical-align: top;\n",
              "    }\n",
              "\n",
              "    .dataframe thead th {\n",
              "        text-align: right;\n",
              "    }\n",
              "</style>\n",
              "<table border=\"1\" class=\"dataframe\">\n",
              "  <thead>\n",
              "    <tr style=\"text-align: right;\">\n",
              "      <th></th>\n",
              "      <th>Solidity</th>\n",
              "      <th>Eccentricity</th>\n",
              "      <th>EquivDiameter</th>\n",
              "      <th>Extrema</th>\n",
              "      <th>FilledArea</th>\n",
              "      <th>Extent</th>\n",
              "      <th>Orientation</th>\n",
              "      <th>EulerNumber</th>\n",
              "      <th>BoundingBox1</th>\n",
              "      <th>BoundingBox2</th>\n",
              "      <th>BoundingBox3</th>\n",
              "      <th>BoundingBox4</th>\n",
              "      <th>ConvexHull1</th>\n",
              "      <th>ConvexHull2</th>\n",
              "      <th>ConvexHull3</th>\n",
              "      <th>ConvexHull4</th>\n",
              "      <th>MajorAxisLength</th>\n",
              "      <th>MinorAxisLength</th>\n",
              "      <th>Perimeter</th>\n",
              "      <th>ConvexArea</th>\n",
              "      <th>Centroid1</th>\n",
              "      <th>Centroid2</th>\n",
              "      <th>Area</th>\n",
              "    </tr>\n",
              "  </thead>\n",
              "  <tbody>\n",
              "    <tr>\n",
              "      <th>0</th>\n",
              "      <td>0.226508</td>\n",
              "      <td>0.919736</td>\n",
              "      <td>0.396523</td>\n",
              "      <td>0.821764</td>\n",
              "      <td>0.124955</td>\n",
              "      <td>0.182526</td>\n",
              "      <td>0.625360</td>\n",
              "      <td>0.880161</td>\n",
              "      <td>0.593651</td>\n",
              "      <td>0.130053</td>\n",
              "      <td>0.313565</td>\n",
              "      <td>0.223064</td>\n",
              "      <td>0.592030</td>\n",
              "      <td>0.592030</td>\n",
              "      <td>0.593651</td>\n",
              "      <td>0.594286</td>\n",
              "      <td>0.246947</td>\n",
              "      <td>0.114904</td>\n",
              "      <td>0.258217</td>\n",
              "      <td>0.050894</td>\n",
              "      <td>0.735949</td>\n",
              "      <td>0.224618</td>\n",
              "      <td>0.177666</td>\n",
              "    </tr>\n",
              "    <tr>\n",
              "      <th>1</th>\n",
              "      <td>0.131249</td>\n",
              "      <td>0.839202</td>\n",
              "      <td>0.189765</td>\n",
              "      <td>0.779862</td>\n",
              "      <td>0.024801</td>\n",
              "      <td>0.102111</td>\n",
              "      <td>0.903063</td>\n",
              "      <td>0.930178</td>\n",
              "      <td>0.697143</td>\n",
              "      <td>0.148506</td>\n",
              "      <td>0.135647</td>\n",
              "      <td>0.244949</td>\n",
              "      <td>0.755218</td>\n",
              "      <td>0.755218</td>\n",
              "      <td>0.698413</td>\n",
              "      <td>0.697143</td>\n",
              "      <td>0.168388</td>\n",
              "      <td>0.110807</td>\n",
              "      <td>0.086619</td>\n",
              "      <td>0.024327</td>\n",
              "      <td>0.782927</td>\n",
              "      <td>0.277804</td>\n",
              "      <td>0.049141</td>\n",
              "    </tr>\n",
              "    <tr>\n",
              "      <th>2</th>\n",
              "      <td>0.356525</td>\n",
              "      <td>0.950434</td>\n",
              "      <td>0.115916</td>\n",
              "      <td>0.711069</td>\n",
              "      <td>0.010689</td>\n",
              "      <td>0.218164</td>\n",
              "      <td>0.860724</td>\n",
              "      <td>0.969789</td>\n",
              "      <td>0.674286</td>\n",
              "      <td>0.324253</td>\n",
              "      <td>0.049211</td>\n",
              "      <td>0.135522</td>\n",
              "      <td>0.719165</td>\n",
              "      <td>0.719165</td>\n",
              "      <td>0.679365</td>\n",
              "      <td>0.676190</td>\n",
              "      <td>0.077268</td>\n",
              "      <td>0.027995</td>\n",
              "      <td>0.023458</td>\n",
              "      <td>0.004147</td>\n",
              "      <td>0.683484</td>\n",
              "      <td>0.365322</td>\n",
              "      <td>0.022188</td>\n",
              "    </tr>\n",
              "    <tr>\n",
              "      <th>3</th>\n",
              "      <td>0.338935</td>\n",
              "      <td>0.828545</td>\n",
              "      <td>0.029171</td>\n",
              "      <td>0.450281</td>\n",
              "      <td>0.001548</td>\n",
              "      <td>0.256960</td>\n",
              "      <td>0.188719</td>\n",
              "      <td>0.995300</td>\n",
              "      <td>0.440635</td>\n",
              "      <td>0.533392</td>\n",
              "      <td>0.019558</td>\n",
              "      <td>0.044613</td>\n",
              "      <td>0.452245</td>\n",
              "      <td>0.452245</td>\n",
              "      <td>0.451429</td>\n",
              "      <td>0.448889</td>\n",
              "      <td>0.020454</td>\n",
              "      <td>0.016625</td>\n",
              "      <td>0.010399</td>\n",
              "      <td>0.000735</td>\n",
              "      <td>0.439275</td>\n",
              "      <td>0.530411</td>\n",
              "      <td>0.003269</td>\n",
              "    </tr>\n",
              "    <tr>\n",
              "      <th>4</th>\n",
              "      <td>0.532809</td>\n",
              "      <td>0.747284</td>\n",
              "      <td>0.139494</td>\n",
              "      <td>0.813557</td>\n",
              "      <td>0.019737</td>\n",
              "      <td>0.485427</td>\n",
              "      <td>0.205856</td>\n",
              "      <td>0.973289</td>\n",
              "      <td>0.805078</td>\n",
              "      <td>0.815014</td>\n",
              "      <td>0.047797</td>\n",
              "      <td>0.077853</td>\n",
              "      <td>0.806157</td>\n",
              "      <td>0.806157</td>\n",
              "      <td>0.806001</td>\n",
              "      <td>0.805078</td>\n",
              "      <td>0.042423</td>\n",
              "      <td>0.038444</td>\n",
              "      <td>0.019337</td>\n",
              "      <td>0.003800</td>\n",
              "      <td>0.825515</td>\n",
              "      <td>0.826488</td>\n",
              "      <td>0.031852</td>\n",
              "    </tr>\n",
              "  </tbody>\n",
              "</table>\n",
              "</div>"
            ],
            "text/plain": [
              "   Solidity  Eccentricity  EquivDiameter  ...  Centroid1  Centroid2      Area\n",
              "0  0.226508      0.919736       0.396523  ...   0.735949   0.224618  0.177666\n",
              "1  0.131249      0.839202       0.189765  ...   0.782927   0.277804  0.049141\n",
              "2  0.356525      0.950434       0.115916  ...   0.683484   0.365322  0.022188\n",
              "3  0.338935      0.828545       0.029171  ...   0.439275   0.530411  0.003269\n",
              "4  0.532809      0.747284       0.139494  ...   0.825515   0.826488  0.031852\n",
              "\n",
              "[5 rows x 23 columns]"
            ]
          },
          "metadata": {
            "tags": []
          },
          "execution_count": 219
        }
      ]
    },
    {
      "cell_type": "code",
      "metadata": {
        "colab": {
          "base_uri": "https://localhost:8080/"
        },
        "id": "j9-xzUPto0dV",
        "outputId": "45cac0f9-f175-40e6-803e-2662061e148b"
      },
      "source": [
        "print(len(test_data))\r\n",
        "vals = model.predict(test_data.values)"
      ],
      "execution_count": 220,
      "outputs": [
        {
          "output_type": "stream",
          "text": [
            "3456\n"
          ],
          "name": "stdout"
        }
      ]
    },
    {
      "cell_type": "code",
      "metadata": {
        "colab": {
          "base_uri": "https://localhost:8080/"
        },
        "id": "tzjLC4Fao4zx",
        "outputId": "455bd5c1-1108-40c9-fbe7-d23f39769da9"
      },
      "source": [
        "vals"
      ],
      "execution_count": 221,
      "outputs": [
        {
          "output_type": "execute_result",
          "data": {
            "text/plain": [
              "array([3, 2, 2, ..., 4, 2, 1])"
            ]
          },
          "metadata": {
            "tags": []
          },
          "execution_count": 221
        }
      ]
    },
    {
      "cell_type": "code",
      "metadata": {
        "id": "D1lck3XGo8t6"
      },
      "source": [
        "res = pd.DataFrame(vals)"
      ],
      "execution_count": 222,
      "outputs": []
    },
    {
      "cell_type": "code",
      "metadata": {
        "id": "0_0DLD5IpA7y"
      },
      "source": [
        "res.columns = [\"prediction\"]"
      ],
      "execution_count": 223,
      "outputs": []
    },
    {
      "cell_type": "code",
      "metadata": {
        "colab": {
          "base_uri": "https://localhost:8080/",
          "height": 17
        },
        "id": "znXX30HaxSJ9",
        "outputId": "48ade711-d656-41e1-e152-755bd5c0faf9"
      },
      "source": [
        "from google.colab import files\r\n",
        "res.to_csv('res.csv') \r\n",
        "files.download('res.csv')"
      ],
      "execution_count": 224,
      "outputs": [
        {
          "output_type": "display_data",
          "data": {
            "application/javascript": [
              "\n",
              "    async function download(id, filename, size) {\n",
              "      if (!google.colab.kernel.accessAllowed) {\n",
              "        return;\n",
              "      }\n",
              "      const div = document.createElement('div');\n",
              "      const label = document.createElement('label');\n",
              "      label.textContent = `Downloading \"${filename}\": `;\n",
              "      div.appendChild(label);\n",
              "      const progress = document.createElement('progress');\n",
              "      progress.max = size;\n",
              "      div.appendChild(progress);\n",
              "      document.body.appendChild(div);\n",
              "\n",
              "      const buffers = [];\n",
              "      let downloaded = 0;\n",
              "\n",
              "      const channel = await google.colab.kernel.comms.open(id);\n",
              "      // Send a message to notify the kernel that we're ready.\n",
              "      channel.send({})\n",
              "\n",
              "      for await (const message of channel.messages) {\n",
              "        // Send a message to notify the kernel that we're ready.\n",
              "        channel.send({})\n",
              "        if (message.buffers) {\n",
              "          for (const buffer of message.buffers) {\n",
              "            buffers.push(buffer);\n",
              "            downloaded += buffer.byteLength;\n",
              "            progress.value = downloaded;\n",
              "          }\n",
              "        }\n",
              "      }\n",
              "      const blob = new Blob(buffers, {type: 'application/binary'});\n",
              "      const a = document.createElement('a');\n",
              "      a.href = window.URL.createObjectURL(blob);\n",
              "      a.download = filename;\n",
              "      div.appendChild(a);\n",
              "      a.click();\n",
              "      div.remove();\n",
              "    }\n",
              "  "
            ],
            "text/plain": [
              "<IPython.core.display.Javascript object>"
            ]
          },
          "metadata": {
            "tags": []
          }
        },
        {
          "output_type": "display_data",
          "data": {
            "application/javascript": [
              "download(\"download_c739379a-846a-4c62-a1e6-ae5aff19b9b4\", \"res.csv\", 23094)"
            ],
            "text/plain": [
              "<IPython.core.display.Javascript object>"
            ]
          },
          "metadata": {
            "tags": []
          }
        }
      ]
    }
  ]
}