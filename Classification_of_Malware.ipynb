{
  "nbformat": 4,
  "nbformat_minor": 0,
  "metadata": {
    "colab": {
      "name": "Classification of Malware.ipynb",
      "provenance": []
    },
    "kernelspec": {
      "name": "python3",
      "display_name": "Python 3"
    }
  },
  "cells": [
    {
      "cell_type": "code",
      "metadata": {
        "id": "LII31hSekdpM"
      },
      "source": [
        "import numpy as np # Fundamental package for linear algebra and multidimensional arrays\r\n",
        "import pandas as pd # Data analysis and manipulation tool\r\n",
        "\r\n",
        "# to ignore warnings\r\n",
        "import warnings\r\n",
        "warnings.filterwarnings(\"ignore\")"
      ],
      "execution_count": 1,
      "outputs": []
    },
    {
      "cell_type": "code",
      "metadata": {
        "id": "pOMZeuXuli57"
      },
      "source": [
        "# In read_csv() function, we have passed the location to where the files are located in the dphi official github page.\r\n",
        "train_data = pd.read_csv(\"https://raw.githubusercontent.com/dphi-official/Datasets/master/clamp/train_set_label.csv\")"
      ],
      "execution_count": 2,
      "outputs": []
    },
    {
      "cell_type": "code",
      "metadata": {
        "colab": {
          "base_uri": "https://localhost:8080/",
          "height": 222
        },
        "id": "GbD1W-S5lttZ",
        "outputId": "0708d534-457d-4f4b-c9dd-ea7808208a34"
      },
      "source": [
        "train_data.head()"
      ],
      "execution_count": 3,
      "outputs": [
        {
          "output_type": "execute_result",
          "data": {
            "text/html": [
              "<div>\n",
              "<style scoped>\n",
              "    .dataframe tbody tr th:only-of-type {\n",
              "        vertical-align: middle;\n",
              "    }\n",
              "\n",
              "    .dataframe tbody tr th {\n",
              "        vertical-align: top;\n",
              "    }\n",
              "\n",
              "    .dataframe thead th {\n",
              "        text-align: right;\n",
              "    }\n",
              "</style>\n",
              "<table border=\"1\" class=\"dataframe\">\n",
              "  <thead>\n",
              "    <tr style=\"text-align: right;\">\n",
              "      <th></th>\n",
              "      <th>e_magic</th>\n",
              "      <th>e_cblp</th>\n",
              "      <th>e_cp</th>\n",
              "      <th>e_crlc</th>\n",
              "      <th>e_cparhdr</th>\n",
              "      <th>e_minalloc</th>\n",
              "      <th>e_maxalloc</th>\n",
              "      <th>e_ss</th>\n",
              "      <th>e_sp</th>\n",
              "      <th>e_csum</th>\n",
              "      <th>e_ip</th>\n",
              "      <th>e_cs</th>\n",
              "      <th>e_lfarlc</th>\n",
              "      <th>e_ovno</th>\n",
              "      <th>e_res</th>\n",
              "      <th>e_oemid</th>\n",
              "      <th>e_oeminfo</th>\n",
              "      <th>e_res2</th>\n",
              "      <th>e_lfanew</th>\n",
              "      <th>Machine</th>\n",
              "      <th>NumberOfSections</th>\n",
              "      <th>CreationYear</th>\n",
              "      <th>PointerToSymbolTable</th>\n",
              "      <th>NumberOfSymbols</th>\n",
              "      <th>SizeOfOptionalHeader</th>\n",
              "      <th>Characteristics</th>\n",
              "      <th>Magic</th>\n",
              "      <th>MajorLinkerVersion</th>\n",
              "      <th>MinorLinkerVersion</th>\n",
              "      <th>SizeOfCode</th>\n",
              "      <th>SizeOfInitializedData</th>\n",
              "      <th>SizeOfUninitializedData</th>\n",
              "      <th>AddressOfEntryPoint</th>\n",
              "      <th>BaseOfCode</th>\n",
              "      <th>BaseOfData</th>\n",
              "      <th>ImageBase</th>\n",
              "      <th>SectionAlignment</th>\n",
              "      <th>FileAlignment</th>\n",
              "      <th>MajorOperatingSystemVersion</th>\n",
              "      <th>MinorOperatingSystemVersion</th>\n",
              "      <th>MajorImageVersion</th>\n",
              "      <th>MinorImageVersion</th>\n",
              "      <th>MajorSubsystemVersion</th>\n",
              "      <th>MinorSubsystemVersion</th>\n",
              "      <th>SizeOfImage</th>\n",
              "      <th>SizeOfHeaders</th>\n",
              "      <th>CheckSum</th>\n",
              "      <th>Subsystem</th>\n",
              "      <th>DllCharacteristics</th>\n",
              "      <th>SizeOfStackReserve</th>\n",
              "      <th>SizeOfStackCommit</th>\n",
              "      <th>SizeOfHeapReserve</th>\n",
              "      <th>SizeOfHeapCommit</th>\n",
              "      <th>LoaderFlags</th>\n",
              "      <th>NumberOfRvaAndSizes</th>\n",
              "      <th>class</th>\n",
              "    </tr>\n",
              "  </thead>\n",
              "  <tbody>\n",
              "    <tr>\n",
              "      <th>0</th>\n",
              "      <td>23117</td>\n",
              "      <td>144</td>\n",
              "      <td>3</td>\n",
              "      <td>0</td>\n",
              "      <td>4</td>\n",
              "      <td>0</td>\n",
              "      <td>65535</td>\n",
              "      <td>0</td>\n",
              "      <td>184</td>\n",
              "      <td>0</td>\n",
              "      <td>0</td>\n",
              "      <td>0</td>\n",
              "      <td>64</td>\n",
              "      <td>0</td>\n",
              "      <td>NaN</td>\n",
              "      <td>0</td>\n",
              "      <td>0</td>\n",
              "      <td>NaN</td>\n",
              "      <td>248</td>\n",
              "      <td>332</td>\n",
              "      <td>7</td>\n",
              "      <td>2011</td>\n",
              "      <td>0</td>\n",
              "      <td>0</td>\n",
              "      <td>224</td>\n",
              "      <td>258</td>\n",
              "      <td>267</td>\n",
              "      <td>9</td>\n",
              "      <td>0</td>\n",
              "      <td>0</td>\n",
              "      <td>98816</td>\n",
              "      <td>0</td>\n",
              "      <td>4816</td>\n",
              "      <td>4096</td>\n",
              "      <td>4096</td>\n",
              "      <td>4194304</td>\n",
              "      <td>4096</td>\n",
              "      <td>512</td>\n",
              "      <td>5</td>\n",
              "      <td>0</td>\n",
              "      <td>0</td>\n",
              "      <td>0</td>\n",
              "      <td>5</td>\n",
              "      <td>0</td>\n",
              "      <td>126976</td>\n",
              "      <td>1024</td>\n",
              "      <td>115397</td>\n",
              "      <td>2</td>\n",
              "      <td>33792</td>\n",
              "      <td>1048576</td>\n",
              "      <td>4096</td>\n",
              "      <td>1048576</td>\n",
              "      <td>4096</td>\n",
              "      <td>0</td>\n",
              "      <td>16</td>\n",
              "      <td>1</td>\n",
              "    </tr>\n",
              "    <tr>\n",
              "      <th>1</th>\n",
              "      <td>23117</td>\n",
              "      <td>144</td>\n",
              "      <td>3</td>\n",
              "      <td>0</td>\n",
              "      <td>4</td>\n",
              "      <td>0</td>\n",
              "      <td>65535</td>\n",
              "      <td>0</td>\n",
              "      <td>184</td>\n",
              "      <td>0</td>\n",
              "      <td>0</td>\n",
              "      <td>0</td>\n",
              "      <td>64</td>\n",
              "      <td>0</td>\n",
              "      <td>NaN</td>\n",
              "      <td>0</td>\n",
              "      <td>0</td>\n",
              "      <td>NaN</td>\n",
              "      <td>256</td>\n",
              "      <td>332</td>\n",
              "      <td>4</td>\n",
              "      <td>2009</td>\n",
              "      <td>0</td>\n",
              "      <td>0</td>\n",
              "      <td>224</td>\n",
              "      <td>271</td>\n",
              "      <td>267</td>\n",
              "      <td>3</td>\n",
              "      <td>6</td>\n",
              "      <td>29696</td>\n",
              "      <td>81920</td>\n",
              "      <td>0</td>\n",
              "      <td>23426</td>\n",
              "      <td>4096</td>\n",
              "      <td>40960</td>\n",
              "      <td>4194304</td>\n",
              "      <td>4096</td>\n",
              "      <td>512</td>\n",
              "      <td>4</td>\n",
              "      <td>0</td>\n",
              "      <td>0</td>\n",
              "      <td>0</td>\n",
              "      <td>4</td>\n",
              "      <td>0</td>\n",
              "      <td>122880</td>\n",
              "      <td>1536</td>\n",
              "      <td>0</td>\n",
              "      <td>2</td>\n",
              "      <td>0</td>\n",
              "      <td>10485760</td>\n",
              "      <td>40960</td>\n",
              "      <td>6291456</td>\n",
              "      <td>16384</td>\n",
              "      <td>0</td>\n",
              "      <td>16</td>\n",
              "      <td>1</td>\n",
              "    </tr>\n",
              "    <tr>\n",
              "      <th>2</th>\n",
              "      <td>23117</td>\n",
              "      <td>144</td>\n",
              "      <td>3</td>\n",
              "      <td>0</td>\n",
              "      <td>4</td>\n",
              "      <td>0</td>\n",
              "      <td>65535</td>\n",
              "      <td>0</td>\n",
              "      <td>184</td>\n",
              "      <td>0</td>\n",
              "      <td>0</td>\n",
              "      <td>0</td>\n",
              "      <td>64</td>\n",
              "      <td>0</td>\n",
              "      <td>NaN</td>\n",
              "      <td>0</td>\n",
              "      <td>0</td>\n",
              "      <td>NaN</td>\n",
              "      <td>256</td>\n",
              "      <td>332</td>\n",
              "      <td>5</td>\n",
              "      <td>2003</td>\n",
              "      <td>0</td>\n",
              "      <td>0</td>\n",
              "      <td>224</td>\n",
              "      <td>8462</td>\n",
              "      <td>267</td>\n",
              "      <td>7</td>\n",
              "      <td>10</td>\n",
              "      <td>52224</td>\n",
              "      <td>36352</td>\n",
              "      <td>0</td>\n",
              "      <td>50964</td>\n",
              "      <td>4096</td>\n",
              "      <td>57344</td>\n",
              "      <td>2081554432</td>\n",
              "      <td>4096</td>\n",
              "      <td>512</td>\n",
              "      <td>4</td>\n",
              "      <td>0</td>\n",
              "      <td>0</td>\n",
              "      <td>0</td>\n",
              "      <td>4</td>\n",
              "      <td>0</td>\n",
              "      <td>102400</td>\n",
              "      <td>1024</td>\n",
              "      <td>0</td>\n",
              "      <td>2</td>\n",
              "      <td>0</td>\n",
              "      <td>1048576</td>\n",
              "      <td>4096</td>\n",
              "      <td>1048576</td>\n",
              "      <td>4096</td>\n",
              "      <td>0</td>\n",
              "      <td>16</td>\n",
              "      <td>0</td>\n",
              "    </tr>\n",
              "    <tr>\n",
              "      <th>3</th>\n",
              "      <td>23117</td>\n",
              "      <td>144</td>\n",
              "      <td>3</td>\n",
              "      <td>0</td>\n",
              "      <td>4</td>\n",
              "      <td>0</td>\n",
              "      <td>65535</td>\n",
              "      <td>0</td>\n",
              "      <td>184</td>\n",
              "      <td>0</td>\n",
              "      <td>0</td>\n",
              "      <td>0</td>\n",
              "      <td>64</td>\n",
              "      <td>0</td>\n",
              "      <td>NaN</td>\n",
              "      <td>0</td>\n",
              "      <td>0</td>\n",
              "      <td>NaN</td>\n",
              "      <td>248</td>\n",
              "      <td>332</td>\n",
              "      <td>5</td>\n",
              "      <td>2012</td>\n",
              "      <td>0</td>\n",
              "      <td>0</td>\n",
              "      <td>224</td>\n",
              "      <td>258</td>\n",
              "      <td>267</td>\n",
              "      <td>10</td>\n",
              "      <td>10</td>\n",
              "      <td>77824</td>\n",
              "      <td>67072</td>\n",
              "      <td>0</td>\n",
              "      <td>78808</td>\n",
              "      <td>4096</td>\n",
              "      <td>81920</td>\n",
              "      <td>4194304</td>\n",
              "      <td>4096</td>\n",
              "      <td>512</td>\n",
              "      <td>6</td>\n",
              "      <td>2</td>\n",
              "      <td>6</td>\n",
              "      <td>2</td>\n",
              "      <td>6</td>\n",
              "      <td>0</td>\n",
              "      <td>155648</td>\n",
              "      <td>1024</td>\n",
              "      <td>142244</td>\n",
              "      <td>2</td>\n",
              "      <td>33088</td>\n",
              "      <td>262144</td>\n",
              "      <td>8192</td>\n",
              "      <td>1048576</td>\n",
              "      <td>4096</td>\n",
              "      <td>0</td>\n",
              "      <td>16</td>\n",
              "      <td>0</td>\n",
              "    </tr>\n",
              "    <tr>\n",
              "      <th>4</th>\n",
              "      <td>23117</td>\n",
              "      <td>144</td>\n",
              "      <td>3</td>\n",
              "      <td>0</td>\n",
              "      <td>4</td>\n",
              "      <td>0</td>\n",
              "      <td>65535</td>\n",
              "      <td>0</td>\n",
              "      <td>184</td>\n",
              "      <td>0</td>\n",
              "      <td>0</td>\n",
              "      <td>0</td>\n",
              "      <td>64</td>\n",
              "      <td>0</td>\n",
              "      <td>NaN</td>\n",
              "      <td>0</td>\n",
              "      <td>0</td>\n",
              "      <td>NaN</td>\n",
              "      <td>192</td>\n",
              "      <td>332</td>\n",
              "      <td>2</td>\n",
              "      <td>2009</td>\n",
              "      <td>0</td>\n",
              "      <td>0</td>\n",
              "      <td>224</td>\n",
              "      <td>8462</td>\n",
              "      <td>267</td>\n",
              "      <td>7</td>\n",
              "      <td>10</td>\n",
              "      <td>0</td>\n",
              "      <td>45056</td>\n",
              "      <td>0</td>\n",
              "      <td>0</td>\n",
              "      <td>4096</td>\n",
              "      <td>4096</td>\n",
              "      <td>268435456</td>\n",
              "      <td>4096</td>\n",
              "      <td>4096</td>\n",
              "      <td>4</td>\n",
              "      <td>0</td>\n",
              "      <td>0</td>\n",
              "      <td>0</td>\n",
              "      <td>4</td>\n",
              "      <td>0</td>\n",
              "      <td>49152</td>\n",
              "      <td>4096</td>\n",
              "      <td>60601</td>\n",
              "      <td>2</td>\n",
              "      <td>1024</td>\n",
              "      <td>1048576</td>\n",
              "      <td>4096</td>\n",
              "      <td>1048576</td>\n",
              "      <td>4096</td>\n",
              "      <td>0</td>\n",
              "      <td>16</td>\n",
              "      <td>0</td>\n",
              "    </tr>\n",
              "  </tbody>\n",
              "</table>\n",
              "</div>"
            ],
            "text/plain": [
              "   e_magic  e_cblp  e_cp  ...  LoaderFlags  NumberOfRvaAndSizes  class\n",
              "0    23117     144     3  ...            0                   16      1\n",
              "1    23117     144     3  ...            0                   16      1\n",
              "2    23117     144     3  ...            0                   16      0\n",
              "3    23117     144     3  ...            0                   16      0\n",
              "4    23117     144     3  ...            0                   16      0\n",
              "\n",
              "[5 rows x 56 columns]"
            ]
          },
          "metadata": {
            "tags": []
          },
          "execution_count": 3
        }
      ]
    },
    {
      "cell_type": "code",
      "metadata": {
        "colab": {
          "base_uri": "https://localhost:8080/"
        },
        "id": "LTb9QK7Gl-2x",
        "outputId": "0f2f7e62-d26b-4865-9abc-d6532c9b9afc"
      },
      "source": [
        "train_data.info()"
      ],
      "execution_count": 4,
      "outputs": [
        {
          "output_type": "stream",
          "text": [
            "<class 'pandas.core.frame.DataFrame'>\n",
            "RangeIndex: 3888 entries, 0 to 3887\n",
            "Data columns (total 56 columns):\n",
            " #   Column                       Non-Null Count  Dtype  \n",
            "---  ------                       --------------  -----  \n",
            " 0   e_magic                      3888 non-null   int64  \n",
            " 1   e_cblp                       3888 non-null   int64  \n",
            " 2   e_cp                         3888 non-null   int64  \n",
            " 3   e_crlc                       3888 non-null   int64  \n",
            " 4   e_cparhdr                    3888 non-null   int64  \n",
            " 5   e_minalloc                   3888 non-null   int64  \n",
            " 6   e_maxalloc                   3888 non-null   int64  \n",
            " 7   e_ss                         3888 non-null   int64  \n",
            " 8   e_sp                         3888 non-null   int64  \n",
            " 9   e_csum                       3888 non-null   int64  \n",
            " 10  e_ip                         3888 non-null   int64  \n",
            " 11  e_cs                         3888 non-null   int64  \n",
            " 12  e_lfarlc                     3888 non-null   int64  \n",
            " 13  e_ovno                       3888 non-null   int64  \n",
            " 14  e_res                        0 non-null      float64\n",
            " 15  e_oemid                      3888 non-null   int64  \n",
            " 16  e_oeminfo                    3888 non-null   int64  \n",
            " 17  e_res2                       0 non-null      float64\n",
            " 18  e_lfanew                     3888 non-null   int64  \n",
            " 19  Machine                      3888 non-null   int64  \n",
            " 20  NumberOfSections             3888 non-null   int64  \n",
            " 21  CreationYear                 3888 non-null   int64  \n",
            " 22  PointerToSymbolTable         3888 non-null   int64  \n",
            " 23  NumberOfSymbols              3888 non-null   int64  \n",
            " 24  SizeOfOptionalHeader         3888 non-null   int64  \n",
            " 25  Characteristics              3888 non-null   int64  \n",
            " 26  Magic                        3888 non-null   int64  \n",
            " 27  MajorLinkerVersion           3888 non-null   int64  \n",
            " 28  MinorLinkerVersion           3888 non-null   int64  \n",
            " 29  SizeOfCode                   3888 non-null   int64  \n",
            " 30  SizeOfInitializedData        3888 non-null   int64  \n",
            " 31  SizeOfUninitializedData      3888 non-null   int64  \n",
            " 32  AddressOfEntryPoint          3888 non-null   int64  \n",
            " 33  BaseOfCode                   3888 non-null   int64  \n",
            " 34  BaseOfData                   3888 non-null   int64  \n",
            " 35  ImageBase                    3888 non-null   int64  \n",
            " 36  SectionAlignment             3888 non-null   int64  \n",
            " 37  FileAlignment                3888 non-null   int64  \n",
            " 38  MajorOperatingSystemVersion  3888 non-null   int64  \n",
            " 39  MinorOperatingSystemVersion  3888 non-null   int64  \n",
            " 40  MajorImageVersion            3888 non-null   int64  \n",
            " 41  MinorImageVersion            3888 non-null   int64  \n",
            " 42  MajorSubsystemVersion        3888 non-null   int64  \n",
            " 43  MinorSubsystemVersion        3888 non-null   int64  \n",
            " 44  SizeOfImage                  3888 non-null   int64  \n",
            " 45  SizeOfHeaders                3888 non-null   int64  \n",
            " 46  CheckSum                     3888 non-null   int64  \n",
            " 47  Subsystem                    3888 non-null   int64  \n",
            " 48  DllCharacteristics           3888 non-null   int64  \n",
            " 49  SizeOfStackReserve           3888 non-null   int64  \n",
            " 50  SizeOfStackCommit            3888 non-null   int64  \n",
            " 51  SizeOfHeapReserve            3888 non-null   int64  \n",
            " 52  SizeOfHeapCommit             3888 non-null   int64  \n",
            " 53  LoaderFlags                  3888 non-null   int64  \n",
            " 54  NumberOfRvaAndSizes          3888 non-null   int64  \n",
            " 55  class                        3888 non-null   int64  \n",
            "dtypes: float64(2), int64(54)\n",
            "memory usage: 1.7 MB\n"
          ],
          "name": "stdout"
        }
      ]
    },
    {
      "cell_type": "code",
      "metadata": {
        "id": "xB3KGPtgmR0J"
      },
      "source": [
        "train_data.drop(['e_res', 'e_res2'], axis = 1, inplace=True)"
      ],
      "execution_count": 5,
      "outputs": []
    },
    {
      "cell_type": "code",
      "metadata": {
        "id": "LrSSp2K1m-KL"
      },
      "source": [
        "# Input/independent variables\r\n",
        "X = train_data.drop('class', axis = 1) # here we are dropping the class feature as this is the target and 'X' is input features, the changes are not\r\n",
        "# made inplace as we have not used 'inplace = True'\r\n",
        "\r\n",
        "y = train_data['class'] # Output/Dependent variable"
      ],
      "execution_count": 6,
      "outputs": []
    },
    {
      "cell_type": "code",
      "metadata": {
        "id": "rx9ylAH8oIM4"
      },
      "source": [
        "# import train_test_split\r\n",
        "from sklearn.model_selection import train_test_split"
      ],
      "execution_count": 7,
      "outputs": []
    },
    {
      "cell_type": "code",
      "metadata": {
        "id": "5tvvZaIcq-Y3"
      },
      "source": [
        "# split the data\r\n",
        "X_train, X_val, y_train, y_val = train_test_split(X,y,test_size=0.3, random_state = 42)"
      ],
      "execution_count": 8,
      "outputs": []
    },
    {
      "cell_type": "code",
      "metadata": {
        "id": "QuPkqcmIrGR-"
      },
      "source": [
        "# Importing RandomForestClassifier from sklearn.ensemble\r\n",
        "# We will be further discussing about why Random Forest is in ensemble module of sklearn library\r\n",
        "from sklearn.linear_model import LogisticRegression"
      ],
      "execution_count": 9,
      "outputs": []
    },
    {
      "cell_type": "code",
      "metadata": {
        "id": "vRn2mus7ruUd"
      },
      "source": [
        "lr = LogisticRegression()"
      ],
      "execution_count": 10,
      "outputs": []
    },
    {
      "cell_type": "code",
      "metadata": {
        "colab": {
          "base_uri": "https://localhost:8080/"
        },
        "id": "frVSFx83r0Bv",
        "outputId": "4d24fea8-637f-49a8-8b56-6d239af297f7"
      },
      "source": [
        "lr.fit(X_train, y_train)"
      ],
      "execution_count": 11,
      "outputs": [
        {
          "output_type": "execute_result",
          "data": {
            "text/plain": [
              "LogisticRegression(C=1.0, class_weight=None, dual=False, fit_intercept=True,\n",
              "                   intercept_scaling=1, l1_ratio=None, max_iter=100,\n",
              "                   multi_class='auto', n_jobs=None, penalty='l2',\n",
              "                   random_state=None, solver='lbfgs', tol=0.0001, verbose=0,\n",
              "                   warm_start=False)"
            ]
          },
          "metadata": {
            "tags": []
          },
          "execution_count": 11
        }
      ]
    },
    {
      "cell_type": "code",
      "metadata": {
        "id": "9W2FujQwsLiL"
      },
      "source": [
        "pred = lr.predict(X_val)"
      ],
      "execution_count": 12,
      "outputs": []
    },
    {
      "cell_type": "code",
      "metadata": {
        "id": "iesAyCrhu2dq"
      },
      "source": [
        "# import mean squared error from sklearn.metric\r\n",
        "from sklearn.metrics import f1_score"
      ],
      "execution_count": 13,
      "outputs": []
    },
    {
      "cell_type": "code",
      "metadata": {
        "colab": {
          "base_uri": "https://localhost:8080/"
        },
        "id": "TrfIqpldu-Et",
        "outputId": "e4061a83-a0a5-418c-c5bd-beca2c9a3021"
      },
      "source": [
        "print('F1 Score is: ', f1_score(y_val, pred))\r\n",
        "\r\n",
        "# y_val is the original target value of the validation set (X_val)\r\n",
        "# pred is the predicted target value of the validation set"
      ],
      "execution_count": 14,
      "outputs": [
        {
          "output_type": "stream",
          "text": [
            "F1 Score is:  0.9063492063492065\n"
          ],
          "name": "stdout"
        }
      ]
    },
    {
      "cell_type": "code",
      "metadata": {
        "colab": {
          "base_uri": "https://localhost:8080/"
        },
        "id": "vtWyqRmcvCmZ",
        "outputId": "73745436-0297-4070-acde-2e1868c5ca27"
      },
      "source": [
        "from xgboost import XGBClassifier\r\n",
        "from sklearn.metrics import accuracy_score\r\n",
        "model = XGBClassifier()\r\n",
        "model.fit(X_train, y_train)\r\n",
        "y_pred=model.predict(X_val)\r\n",
        "print(accuracy_score(y_val, y_pred)*100)"
      ],
      "execution_count": 15,
      "outputs": [
        {
          "output_type": "stream",
          "text": [
            "96.74378748928878\n"
          ],
          "name": "stdout"
        }
      ]
    },
    {
      "cell_type": "code",
      "metadata": {
        "id": "ylUNtLvov4aa"
      },
      "source": [
        "from sklearn.ensemble import RandomForestClassifier\r\n",
        "rfc = RandomForestClassifier(random_state = 1)"
      ],
      "execution_count": 16,
      "outputs": []
    },
    {
      "cell_type": "code",
      "metadata": {
        "colab": {
          "base_uri": "https://localhost:8080/"
        },
        "id": "mPNqT4VOv-96",
        "outputId": "f95995b6-d526-4021-faf2-f7424f3a2fe0"
      },
      "source": [
        "rfc.fit(X_train, y_train)"
      ],
      "execution_count": 17,
      "outputs": [
        {
          "output_type": "execute_result",
          "data": {
            "text/plain": [
              "RandomForestClassifier(bootstrap=True, ccp_alpha=0.0, class_weight=None,\n",
              "                       criterion='gini', max_depth=None, max_features='auto',\n",
              "                       max_leaf_nodes=None, max_samples=None,\n",
              "                       min_impurity_decrease=0.0, min_impurity_split=None,\n",
              "                       min_samples_leaf=1, min_samples_split=2,\n",
              "                       min_weight_fraction_leaf=0.0, n_estimators=100,\n",
              "                       n_jobs=None, oob_score=False, random_state=1, verbose=0,\n",
              "                       warm_start=False)"
            ]
          },
          "metadata": {
            "tags": []
          },
          "execution_count": 17
        }
      ]
    },
    {
      "cell_type": "code",
      "metadata": {
        "colab": {
          "base_uri": "https://localhost:8080/"
        },
        "id": "EOdDrH01wBJn",
        "outputId": "e59d0c7c-c004-4a23-bb1d-d6cf242d68a2"
      },
      "source": [
        "y_pred=model.predict(X_val)\r\n",
        "print(accuracy_score(y_val, y_pred)*100)"
      ],
      "execution_count": 18,
      "outputs": [
        {
          "output_type": "stream",
          "text": [
            "96.74378748928878\n"
          ],
          "name": "stdout"
        }
      ]
    },
    {
      "cell_type": "code",
      "metadata": {
        "id": "YM-JaBsRwF3i"
      },
      "source": [
        "test_data = pd.read_csv('https://raw.githubusercontent.com/dphi-official/Datasets/master/clamp/test_set_label.csv')"
      ],
      "execution_count": 19,
      "outputs": []
    },
    {
      "cell_type": "code",
      "metadata": {
        "colab": {
          "base_uri": "https://localhost:8080/"
        },
        "id": "ySPB-vNvwhqC",
        "outputId": "6a6f2c6a-8d8a-4cea-e487-be5f0a523cbf"
      },
      "source": [
        "test_data.info()"
      ],
      "execution_count": 20,
      "outputs": [
        {
          "output_type": "stream",
          "text": [
            "<class 'pandas.core.frame.DataFrame'>\n",
            "RangeIndex: 1296 entries, 0 to 1295\n",
            "Data columns (total 55 columns):\n",
            " #   Column                       Non-Null Count  Dtype  \n",
            "---  ------                       --------------  -----  \n",
            " 0   e_magic                      1296 non-null   int64  \n",
            " 1   e_cblp                       1296 non-null   int64  \n",
            " 2   e_cp                         1296 non-null   int64  \n",
            " 3   e_crlc                       1296 non-null   int64  \n",
            " 4   e_cparhdr                    1296 non-null   int64  \n",
            " 5   e_minalloc                   1296 non-null   int64  \n",
            " 6   e_maxalloc                   1296 non-null   int64  \n",
            " 7   e_ss                         1296 non-null   int64  \n",
            " 8   e_sp                         1296 non-null   int64  \n",
            " 9   e_csum                       1296 non-null   int64  \n",
            " 10  e_ip                         1296 non-null   int64  \n",
            " 11  e_cs                         1296 non-null   int64  \n",
            " 12  e_lfarlc                     1296 non-null   int64  \n",
            " 13  e_ovno                       1296 non-null   int64  \n",
            " 14  e_res                        0 non-null      float64\n",
            " 15  e_oemid                      1296 non-null   int64  \n",
            " 16  e_oeminfo                    1296 non-null   int64  \n",
            " 17  e_res2                       0 non-null      float64\n",
            " 18  e_lfanew                     1296 non-null   int64  \n",
            " 19  Machine                      1296 non-null   int64  \n",
            " 20  NumberOfSections             1296 non-null   int64  \n",
            " 21  CreationYear                 1296 non-null   int64  \n",
            " 22  PointerToSymbolTable         1296 non-null   int64  \n",
            " 23  NumberOfSymbols              1296 non-null   int64  \n",
            " 24  SizeOfOptionalHeader         1296 non-null   int64  \n",
            " 25  Characteristics              1296 non-null   int64  \n",
            " 26  Magic                        1296 non-null   int64  \n",
            " 27  MajorLinkerVersion           1296 non-null   int64  \n",
            " 28  MinorLinkerVersion           1296 non-null   int64  \n",
            " 29  SizeOfCode                   1296 non-null   int64  \n",
            " 30  SizeOfInitializedData        1296 non-null   int64  \n",
            " 31  SizeOfUninitializedData      1296 non-null   int64  \n",
            " 32  AddressOfEntryPoint          1296 non-null   int64  \n",
            " 33  BaseOfCode                   1296 non-null   int64  \n",
            " 34  BaseOfData                   1296 non-null   int64  \n",
            " 35  ImageBase                    1296 non-null   int64  \n",
            " 36  SectionAlignment             1296 non-null   int64  \n",
            " 37  FileAlignment                1296 non-null   int64  \n",
            " 38  MajorOperatingSystemVersion  1296 non-null   int64  \n",
            " 39  MinorOperatingSystemVersion  1296 non-null   int64  \n",
            " 40  MajorImageVersion            1296 non-null   int64  \n",
            " 41  MinorImageVersion            1296 non-null   int64  \n",
            " 42  MajorSubsystemVersion        1296 non-null   int64  \n",
            " 43  MinorSubsystemVersion        1296 non-null   int64  \n",
            " 44  SizeOfImage                  1296 non-null   int64  \n",
            " 45  SizeOfHeaders                1296 non-null   int64  \n",
            " 46  CheckSum                     1296 non-null   int64  \n",
            " 47  Subsystem                    1296 non-null   int64  \n",
            " 48  DllCharacteristics           1296 non-null   int64  \n",
            " 49  SizeOfStackReserve           1296 non-null   int64  \n",
            " 50  SizeOfStackCommit            1296 non-null   int64  \n",
            " 51  SizeOfHeapReserve            1296 non-null   int64  \n",
            " 52  SizeOfHeapCommit             1296 non-null   int64  \n",
            " 53  LoaderFlags                  1296 non-null   int64  \n",
            " 54  NumberOfRvaAndSizes          1296 non-null   int64  \n",
            "dtypes: float64(2), int64(53)\n",
            "memory usage: 557.0 KB\n"
          ],
          "name": "stdout"
        }
      ]
    },
    {
      "cell_type": "code",
      "metadata": {
        "id": "KABjzrF_wnhC"
      },
      "source": [
        "test_data.drop(['e_res', 'e_res2'], axis = 1, inplace=True)"
      ],
      "execution_count": 21,
      "outputs": []
    },
    {
      "cell_type": "code",
      "metadata": {
        "id": "KImWBhfmwsqn"
      },
      "source": [
        "target = lr.predict(test_data)"
      ],
      "execution_count": 22,
      "outputs": []
    },
    {
      "cell_type": "code",
      "metadata": {
        "colab": {
          "base_uri": "https://localhost:8080/",
          "height": 17
        },
        "id": "MBIcHgQeyUcS",
        "outputId": "a291e98f-c73d-424b-e50c-c8e128e780d6"
      },
      "source": [
        "# To create Dataframe of predicted value with particular respective index\r\n",
        "res = pd.DataFrame(target) # target are nothing but the final predictions of your model on input features of your new unseen test data\r\n",
        "res.columns = [\"prediction\"]\r\n",
        "\r\n",
        "# To download the csv file locally\r\n",
        "from google.colab import files\r\n",
        "res.to_csv('submission.csv')\r\n",
        "files.download('submission.csv')"
      ],
      "execution_count": 23,
      "outputs": [
        {
          "output_type": "display_data",
          "data": {
            "application/javascript": [
              "\n",
              "    async function download(id, filename, size) {\n",
              "      if (!google.colab.kernel.accessAllowed) {\n",
              "        return;\n",
              "      }\n",
              "      const div = document.createElement('div');\n",
              "      const label = document.createElement('label');\n",
              "      label.textContent = `Downloading \"${filename}\": `;\n",
              "      div.appendChild(label);\n",
              "      const progress = document.createElement('progress');\n",
              "      progress.max = size;\n",
              "      div.appendChild(progress);\n",
              "      document.body.appendChild(div);\n",
              "\n",
              "      const buffers = [];\n",
              "      let downloaded = 0;\n",
              "\n",
              "      const channel = await google.colab.kernel.comms.open(id);\n",
              "      // Send a message to notify the kernel that we're ready.\n",
              "      channel.send({})\n",
              "\n",
              "      for await (const message of channel.messages) {\n",
              "        // Send a message to notify the kernel that we're ready.\n",
              "        channel.send({})\n",
              "        if (message.buffers) {\n",
              "          for (const buffer of message.buffers) {\n",
              "            buffers.push(buffer);\n",
              "            downloaded += buffer.byteLength;\n",
              "            progress.value = downloaded;\n",
              "          }\n",
              "        }\n",
              "      }\n",
              "      const blob = new Blob(buffers, {type: 'application/binary'});\n",
              "      const a = document.createElement('a');\n",
              "      a.href = window.URL.createObjectURL(blob);\n",
              "      a.download = filename;\n",
              "      div.appendChild(a);\n",
              "      a.click();\n",
              "      div.remove();\n",
              "    }\n",
              "  "
            ],
            "text/plain": [
              "<IPython.core.display.Javascript object>"
            ]
          },
          "metadata": {
            "tags": []
          }
        },
        {
          "output_type": "display_data",
          "data": {
            "application/javascript": [
              "download(\"download_60b3401f-51b3-4488-8cc9-a79d1b8c5436\", \"submission.csv\", 7974)"
            ],
            "text/plain": [
              "<IPython.core.display.Javascript object>"
            ]
          },
          "metadata": {
            "tags": []
          }
        }
      ]
    },
    {
      "cell_type": "code",
      "metadata": {
        "id": "v69RPoAs0k_M"
      },
      "source": [
        ""
      ],
      "execution_count": null,
      "outputs": []
    }
  ]
}