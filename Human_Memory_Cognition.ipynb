{
  "nbformat": 4,
  "nbformat_minor": 0,
  "metadata": {
    "colab": {
      "name": "Human_Memory_Cognition.ipynb",
      "provenance": []
    },
    "kernelspec": {
      "name": "python3",
      "display_name": "Python 3"
    }
  },
  "cells": [
    {
      "cell_type": "code",
      "metadata": {
        "id": "eaKvLEFEIaSd"
      },
      "source": [
        "import numpy as np # Fundamental package for linear algebra and multidimensional arrays\r\n",
        "import pandas as pd # Data analysis and manipultion tool\r\n",
        "\r\n",
        "# to ignore warnings\r\n",
        "import warnings\r\n",
        "warnings.filterwarnings(\"ignore\")"
      ],
      "execution_count": null,
      "outputs": []
    },
    {
      "cell_type": "code",
      "metadata": {
        "id": "YNyr5MbBIe8o"
      },
      "source": [
        "# In read_csv() function, we have passed the location to where the files are located in the dphi official github page.\r\n",
        "train_data = pd.read_csv(\"https://raw.githubusercontent.com/dphi-official/Datasets/master/hippocorpus/train_set_label.csv\" )"
      ],
      "execution_count": null,
      "outputs": []
    },
    {
      "cell_type": "code",
      "metadata": {
        "colab": {
          "base_uri": "https://localhost:8080/",
          "height": 707
        },
        "id": "ko5F8H2kJOLS",
        "outputId": "538172b7-eaa1-49fb-ef9d-7a0834b79cfc"
      },
      "source": [
        "train_data.head()"
      ],
      "execution_count": null,
      "outputs": [
        {
          "output_type": "execute_result",
          "data": {
            "text/html": [
              "<div>\n",
              "<style scoped>\n",
              "    .dataframe tbody tr th:only-of-type {\n",
              "        vertical-align: middle;\n",
              "    }\n",
              "\n",
              "    .dataframe tbody tr th {\n",
              "        vertical-align: top;\n",
              "    }\n",
              "\n",
              "    .dataframe thead th {\n",
              "        text-align: right;\n",
              "    }\n",
              "</style>\n",
              "<table border=\"1\" class=\"dataframe\">\n",
              "  <thead>\n",
              "    <tr style=\"text-align: right;\">\n",
              "      <th></th>\n",
              "      <th>AssignmentId</th>\n",
              "      <th>WorkTimeInSeconds</th>\n",
              "      <th>WorkerId</th>\n",
              "      <th>annotatorAge</th>\n",
              "      <th>annotatorGender</th>\n",
              "      <th>annotatorRace</th>\n",
              "      <th>distracted</th>\n",
              "      <th>draining</th>\n",
              "      <th>frequency</th>\n",
              "      <th>importance</th>\n",
              "      <th>logTimeSinceEvent</th>\n",
              "      <th>mainEvent</th>\n",
              "      <th>mostSurprising</th>\n",
              "      <th>openness</th>\n",
              "      <th>recAgnPairId</th>\n",
              "      <th>recImgPairId</th>\n",
              "      <th>similarity</th>\n",
              "      <th>similarityReason</th>\n",
              "      <th>story</th>\n",
              "      <th>stressful</th>\n",
              "      <th>summary</th>\n",
              "      <th>timeSinceEvent</th>\n",
              "      <th>memType</th>\n",
              "    </tr>\n",
              "  </thead>\n",
              "  <tbody>\n",
              "    <tr>\n",
              "      <th>0</th>\n",
              "      <td>39DD6S19JQXBBJGPFEBWSF4G1TQEZJ</td>\n",
              "      <td>1025</td>\n",
              "      <td>YGROBIBW</td>\n",
              "      <td>35.0</td>\n",
              "      <td>Man</td>\n",
              "      <td>white</td>\n",
              "      <td>one</td>\n",
              "      <td>3.0</td>\n",
              "      <td>2.0</td>\n",
              "      <td>3.0</td>\n",
              "      <td>4.094345</td>\n",
              "      <td>my friend's death and how our group of friends...</td>\n",
              "      <td>the mourning process had a kind of positive si...</td>\n",
              "      <td>0.375</td>\n",
              "      <td>3RKNTXVS3NKSI9BOEGJK201G4H2A46</td>\n",
              "      <td>NaN</td>\n",
              "      <td>NaN</td>\n",
              "      <td>NaN</td>\n",
              "      <td>We were friends from high school. I got a call...</td>\n",
              "      <td>3.0</td>\n",
              "      <td>my friend's death. Old friends reunited to sha...</td>\n",
              "      <td>60.0</td>\n",
              "      <td>retold</td>\n",
              "    </tr>\n",
              "    <tr>\n",
              "      <th>1</th>\n",
              "      <td>3WQQ9FUS6BGYKK3IWX9TEN1R8RLB87</td>\n",
              "      <td>1987</td>\n",
              "      <td>KK89LEHY</td>\n",
              "      <td>35.0</td>\n",
              "      <td>woman</td>\n",
              "      <td>indian</td>\n",
              "      <td>one</td>\n",
              "      <td>5.0</td>\n",
              "      <td>3.0</td>\n",
              "      <td>5.0</td>\n",
              "      <td>5.010635</td>\n",
              "      <td>the loss of my father and the impact he had on...</td>\n",
              "      <td>he died very suddenly and within minutes</td>\n",
              "      <td>0.625</td>\n",
              "      <td>NaN</td>\n",
              "      <td>3WQQ9FUS6BGYKK3IWX9TEN1R8RLB87</td>\n",
              "      <td>NaN</td>\n",
              "      <td>NaN</td>\n",
              "      <td>Five months ago, my father passed away from a ...</td>\n",
              "      <td>2.0</td>\n",
              "      <td>My dad, who was a significant person in my lif...</td>\n",
              "      <td>150.0</td>\n",
              "      <td>recalled</td>\n",
              "    </tr>\n",
              "    <tr>\n",
              "      <th>2</th>\n",
              "      <td>3YDTZAI2WY2WOLYOIXQRRZ8DKXB14S</td>\n",
              "      <td>1604</td>\n",
              "      <td>JIWFAU5T</td>\n",
              "      <td>35.0</td>\n",
              "      <td>man</td>\n",
              "      <td>White</td>\n",
              "      <td>one</td>\n",
              "      <td>one</td>\n",
              "      <td>5.0</td>\n",
              "      <td>5.0</td>\n",
              "      <td>4.787492</td>\n",
              "      <td>how I met my wife.</td>\n",
              "      <td>when I got my unreserved kind of love.</td>\n",
              "      <td>1.000</td>\n",
              "      <td>NaN</td>\n",
              "      <td>3YDTZAI2WY2WOLYOIXQRRZ8DKXB14S</td>\n",
              "      <td>NaN</td>\n",
              "      <td>NaN</td>\n",
              "      <td>My Most Memorable Day of My Life! I found my o...</td>\n",
              "      <td>1.0</td>\n",
              "      <td>The best thing may be difficult to find. I was...</td>\n",
              "      <td>120.0</td>\n",
              "      <td>recalled</td>\n",
              "    </tr>\n",
              "    <tr>\n",
              "      <th>3</th>\n",
              "      <td>3Q8GYXHFEQOY77CMCZYLDNXJ2YBC58</td>\n",
              "      <td>6369</td>\n",
              "      <td>1NHCDDOJ</td>\n",
              "      <td>40.0</td>\n",
              "      <td>woman</td>\n",
              "      <td>white</td>\n",
              "      <td>one</td>\n",
              "      <td>one</td>\n",
              "      <td>NaN</td>\n",
              "      <td>4.0</td>\n",
              "      <td>5.480639</td>\n",
              "      <td>the events leading up to my wedding</td>\n",
              "      <td>a surprise flash mob wedding proposal</td>\n",
              "      <td>0.875</td>\n",
              "      <td>NaN</td>\n",
              "      <td>3WLEIWSYHP3XPI4FG8AOQ7RM04VH26</td>\n",
              "      <td>1.0</td>\n",
              "      <td>This was not at all how I got engaged, but a w...</td>\n",
              "      <td>It has been such a whirlwind these past 8 mont...</td>\n",
              "      <td>1.0</td>\n",
              "      <td>The event described details my wedding which o...</td>\n",
              "      <td>240.0</td>\n",
              "      <td>imagined</td>\n",
              "    </tr>\n",
              "    <tr>\n",
              "      <th>4</th>\n",
              "      <td>32AT8R96GMVVZ3RXAMWT04TG9CISU0</td>\n",
              "      <td>1083</td>\n",
              "      <td>A5SWJWSQ</td>\n",
              "      <td>30.0</td>\n",
              "      <td>MAN</td>\n",
              "      <td>white</td>\n",
              "      <td>one</td>\n",
              "      <td>5.0</td>\n",
              "      <td>3.0</td>\n",
              "      <td>5.0</td>\n",
              "      <td>4.094345</td>\n",
              "      <td>Attending a funeral for my cousin.</td>\n",
              "      <td>How emotional I felt during at the cemetery.</td>\n",
              "      <td>1.000</td>\n",
              "      <td>NaN</td>\n",
              "      <td>32AT8R96GMVVZ3RXAMWT04TG9CISU0</td>\n",
              "      <td>NaN</td>\n",
              "      <td>NaN</td>\n",
              "      <td>Today was one of the saddest days of my life. ...</td>\n",
              "      <td>4.0</td>\n",
              "      <td>My cousin recently passed away due to brain ca...</td>\n",
              "      <td>60.0</td>\n",
              "      <td>recalled</td>\n",
              "    </tr>\n",
              "  </tbody>\n",
              "</table>\n",
              "</div>"
            ],
            "text/plain": [
              "                     AssignmentId  WorkTimeInSeconds  ... timeSinceEvent   memType\n",
              "0  39DD6S19JQXBBJGPFEBWSF4G1TQEZJ               1025  ...           60.0    retold\n",
              "1  3WQQ9FUS6BGYKK3IWX9TEN1R8RLB87               1987  ...          150.0  recalled\n",
              "2  3YDTZAI2WY2WOLYOIXQRRZ8DKXB14S               1604  ...          120.0  recalled\n",
              "3  3Q8GYXHFEQOY77CMCZYLDNXJ2YBC58               6369  ...          240.0  imagined\n",
              "4  32AT8R96GMVVZ3RXAMWT04TG9CISU0               1083  ...           60.0  recalled\n",
              "\n",
              "[5 rows x 23 columns]"
            ]
          },
          "metadata": {
            "tags": []
          },
          "execution_count": 15
        }
      ]
    },
    {
      "cell_type": "code",
      "metadata": {
        "colab": {
          "base_uri": "https://localhost:8080/"
        },
        "id": "jdW_lnM6JRjq",
        "outputId": "30ef5ff6-2e43-45ec-e271-573a874cae81"
      },
      "source": [
        "train_data.info()"
      ],
      "execution_count": null,
      "outputs": [
        {
          "output_type": "stream",
          "text": [
            "<class 'pandas.core.frame.DataFrame'>\n",
            "RangeIndex: 6797 entries, 0 to 6796\n",
            "Data columns (total 23 columns):\n",
            " #   Column             Non-Null Count  Dtype  \n",
            "---  ------             --------------  -----  \n",
            " 0   AssignmentId       6797 non-null   object \n",
            " 1   WorkTimeInSeconds  6797 non-null   int64  \n",
            " 2   WorkerId           6797 non-null   object \n",
            " 3   annotatorAge       6771 non-null   float64\n",
            " 4   annotatorGender    6793 non-null   object \n",
            " 5   annotatorRace      6797 non-null   object \n",
            " 6   distracted         6797 non-null   object \n",
            " 7   draining           6797 non-null   object \n",
            " 8   frequency          4052 non-null   float64\n",
            " 9   importance         6649 non-null   float64\n",
            " 10  logTimeSinceEvent  6797 non-null   float64\n",
            " 11  mainEvent          6797 non-null   object \n",
            " 12  mostSurprising     6797 non-null   object \n",
            " 13  openness           6797 non-null   float64\n",
            " 14  recAgnPairId       2549 non-null   object \n",
            " 15  recImgPairId       5303 non-null   object \n",
            " 16  similarity         2745 non-null   float64\n",
            " 17  similarityReason   2745 non-null   object \n",
            " 18  story              6797 non-null   object \n",
            " 19  stressful          6797 non-null   float64\n",
            " 20  summary            6797 non-null   object \n",
            " 21  timeSinceEvent     6797 non-null   float64\n",
            " 22  memType            6797 non-null   object \n",
            "dtypes: float64(8), int64(1), object(14)\n",
            "memory usage: 1.2+ MB\n"
          ],
          "name": "stdout"
        }
      ]
    },
    {
      "cell_type": "code",
      "metadata": {
        "id": "VK-peq8DJiGa"
      },
      "source": [
        "# Input/independent variables\r\n",
        "X = train_data.drop('memType', axis = 1) # her we are droping the memType feature as this is the target and 'X' is input features, the changes are not\r\n",
        "# made inplace as we have not used 'inplace = True'\r\n",
        "\r\n",
        "y = train_data['memType'] # Output/Dependent variable"
      ],
      "execution_count": null,
      "outputs": []
    },
    {
      "cell_type": "code",
      "metadata": {
        "id": "S5bpC3VLJtH8"
      },
      "source": [
        "X = X.select_dtypes(exclude='object')"
      ],
      "execution_count": null,
      "outputs": []
    },
    {
      "cell_type": "code",
      "metadata": {
        "id": "xBf2iD4NJ0wE"
      },
      "source": [
        "y_enc = []\r\n",
        "for item in y:\r\n",
        "    if item == 'recalled':\r\n",
        "       y_enc.append(0)\r\n",
        "    elif item == 'imagined':\r\n",
        "       y_enc.append(1)\r\n",
        "    else:\r\n",
        "       y_enc.append(2)\r\n",
        "y = np.array(y_enc)"
      ],
      "execution_count": null,
      "outputs": []
    },
    {
      "cell_type": "code",
      "metadata": {
        "id": "aUFDNhaoK40Y"
      },
      "source": [
        "# import train_test_split\r\n",
        "from sklearn.model_selection import train_test_split"
      ],
      "execution_count": null,
      "outputs": []
    },
    {
      "cell_type": "code",
      "metadata": {
        "id": "MjzzZAA-LPpH"
      },
      "source": [
        "# split the data\r\n",
        "X_train, X_val, y_train, y_val = train_test_split(X,y,test_size=0.3, random_state = 42)"
      ],
      "execution_count": null,
      "outputs": []
    },
    {
      "cell_type": "code",
      "metadata": {
        "id": "8wtiap_2LVzR"
      },
      "source": [
        "X_train.annotatorAge.fillna(X_train.annotatorAge.mean(), inplace=True)\r\n",
        "X_train.importance.fillna(X_train.importance.mean(), inplace=True)\r\n",
        "X_train.frequency.fillna(X_train.frequency.mean(), inplace=True)\r\n",
        "X_train.similarity.fillna(X_train.similarity.mean(), inplace=True)\r\n",
        "\r\n",
        "X_val.annotatorAge.fillna(X_val.annotatorAge.mean(), inplace=True)\r\n",
        "X_val.importance.fillna(X_val.importance.mean(), inplace=True)\r\n",
        "X_val.frequency.fillna(X_val.frequency.mean(), inplace=True)\r\n",
        "X_val.similarity.fillna(X_val.similarity.mean(), inplace=True)"
      ],
      "execution_count": null,
      "outputs": []
    },
    {
      "cell_type": "code",
      "metadata": {
        "id": "Pt9yZt9jMTxB"
      },
      "source": [
        "from sklearn.preprocessing import StandardScaler\r\n",
        "ss = StandardScaler()\r\n",
        "X_train = ss.fit_transform(X_train)\r\n",
        "X_val = ss.fit_transform(X_val)"
      ],
      "execution_count": null,
      "outputs": []
    },
    {
      "cell_type": "code",
      "metadata": {
        "colab": {
          "base_uri": "https://localhost:8080/"
        },
        "id": "OZj3sfe0MY7Q",
        "outputId": "051546dd-c45e-4ba7-f39e-da208e7d0ed4"
      },
      "source": [
        "y"
      ],
      "execution_count": null,
      "outputs": [
        {
          "output_type": "execute_result",
          "data": {
            "text/plain": [
              "array([2, 0, 0, ..., 1, 1, 2])"
            ]
          },
          "metadata": {
            "tags": []
          },
          "execution_count": 24
        }
      ]
    },
    {
      "cell_type": "code",
      "metadata": {
        "id": "vN2APjQSMbMD"
      },
      "source": [
        "# Importing RandomForestClassifier from sklearn.ensemble\r\n",
        "# We will be further discussing about why Random Forest is in ensemble module of sklearn library\r\n",
        "from sklearn.linear_model import LogisticRegression"
      ],
      "execution_count": null,
      "outputs": []
    },
    {
      "cell_type": "code",
      "metadata": {
        "id": "R7cVGCGoMgSg"
      },
      "source": [
        "lr = LogisticRegression()"
      ],
      "execution_count": null,
      "outputs": []
    },
    {
      "cell_type": "code",
      "metadata": {
        "colab": {
          "base_uri": "https://localhost:8080/"
        },
        "id": "lj61ZDTPMkF_",
        "outputId": "71739c8a-16d5-4141-c968-f5e1c8fd378d"
      },
      "source": [
        "lr.fit(X_train, y_train)"
      ],
      "execution_count": null,
      "outputs": [
        {
          "output_type": "execute_result",
          "data": {
            "text/plain": [
              "LogisticRegression(C=1.0, class_weight=None, dual=False, fit_intercept=True,\n",
              "                   intercept_scaling=1, l1_ratio=None, max_iter=100,\n",
              "                   multi_class='auto', n_jobs=None, penalty='l2',\n",
              "                   random_state=None, solver='lbfgs', tol=0.0001, verbose=0,\n",
              "                   warm_start=False)"
            ]
          },
          "metadata": {
            "tags": []
          },
          "execution_count": 27
        }
      ]
    },
    {
      "cell_type": "code",
      "metadata": {
        "colab": {
          "base_uri": "https://localhost:8080/"
        },
        "id": "qt8DTBFJNzcL",
        "outputId": "76af9402-5b5d-4ebe-ec3b-99850b253d43"
      },
      "source": [
        "y_pred=lr.predict(X_val)\r\n",
        "from sklearn.metrics import accuracy_score\r\n",
        "from sklearn import metrics\r\n",
        "print(\"Accuracy:\",metrics.accuracy_score(y_val, y_pred))"
      ],
      "execution_count": null,
      "outputs": [
        {
          "output_type": "stream",
          "text": [
            "Accuracy: 0.6593137254901961\n"
          ],
          "name": "stdout"
        }
      ]
    },
    {
      "cell_type": "code",
      "metadata": {
        "colab": {
          "base_uri": "https://localhost:8080/"
        },
        "id": "0H7JL4ORPAIm",
        "outputId": "53ecea7f-d7bf-4732-dbd5-1ad24c0fa6ab"
      },
      "source": [
        "from xgboost import XGBClassifier\r\n",
        "from sklearn.metrics import accuracy_score\r\n",
        "model = XGBClassifier()\r\n",
        "model.fit(X_train, y_train)\r\n",
        "y_pred=model.predict(X_val)\r\n",
        "print(accuracy_score(y_val, y_pred)*100)"
      ],
      "execution_count": null,
      "outputs": [
        {
          "output_type": "stream",
          "text": [
            "85.5392156862745\n"
          ],
          "name": "stdout"
        }
      ]
    },
    {
      "cell_type": "code",
      "metadata": {
        "id": "POCiEXeoPirW"
      },
      "source": [
        "from sklearn.ensemble import RandomForestClassifier\r\n",
        "rfc = RandomForestClassifier(random_state = 1)"
      ],
      "execution_count": null,
      "outputs": []
    },
    {
      "cell_type": "code",
      "metadata": {
        "colab": {
          "base_uri": "https://localhost:8080/"
        },
        "id": "NWmELk-HPtdJ",
        "outputId": "18226b2e-1aba-4c32-daee-d3cfd4dbc97f"
      },
      "source": [
        "rfc.fit(X_train, y_train)"
      ],
      "execution_count": null,
      "outputs": [
        {
          "output_type": "execute_result",
          "data": {
            "text/plain": [
              "RandomForestClassifier(bootstrap=True, ccp_alpha=0.0, class_weight=None,\n",
              "                       criterion='gini', max_depth=None, max_features='auto',\n",
              "                       max_leaf_nodes=None, max_samples=None,\n",
              "                       min_impurity_decrease=0.0, min_impurity_split=None,\n",
              "                       min_samples_leaf=1, min_samples_split=2,\n",
              "                       min_weight_fraction_leaf=0.0, n_estimators=100,\n",
              "                       n_jobs=None, oob_score=False, random_state=1, verbose=0,\n",
              "                       warm_start=False)"
            ]
          },
          "metadata": {
            "tags": []
          },
          "execution_count": 35
        }
      ]
    },
    {
      "cell_type": "code",
      "metadata": {
        "colab": {
          "base_uri": "https://localhost:8080/"
        },
        "id": "6_tIphyJPxiC",
        "outputId": "e4ee1ed4-fc7e-49ac-c826-574f4b2ac887"
      },
      "source": [
        "y_pred=model.predict(X_val)\r\n",
        "print(accuracy_score(y_val, y_pred)*100)"
      ],
      "execution_count": null,
      "outputs": [
        {
          "output_type": "stream",
          "text": [
            "85.5392156862745\n"
          ],
          "name": "stdout"
        }
      ]
    },
    {
      "cell_type": "code",
      "metadata": {
        "id": "d6-nVU3NP-lB"
      },
      "source": [
        "pred = lr.predict(X_val)"
      ],
      "execution_count": null,
      "outputs": []
    },
    {
      "cell_type": "code",
      "metadata": {
        "colab": {
          "base_uri": "https://localhost:8080/"
        },
        "id": "SXXk7BqCQQj_",
        "outputId": "d94a3160-a787-4f84-fcfc-1afab5746d3a"
      },
      "source": [
        "np.unique(pred)"
      ],
      "execution_count": null,
      "outputs": [
        {
          "output_type": "execute_result",
          "data": {
            "text/plain": [
              "array([0, 1, 2])"
            ]
          },
          "metadata": {
            "tags": []
          },
          "execution_count": 38
        }
      ]
    },
    {
      "cell_type": "code",
      "metadata": {
        "id": "i1dTOKeyQXVk"
      },
      "source": [
        "# import mean squared error from sklearn.metric\r\n",
        "from sklearn.metrics import f1_score"
      ],
      "execution_count": null,
      "outputs": []
    },
    {
      "cell_type": "code",
      "metadata": {
        "colab": {
          "base_uri": "https://localhost:8080/"
        },
        "id": "9nrVDlnkQ4vR",
        "outputId": "4ea7ba8f-e9de-4030-dda1-bb08fba0c3f4"
      },
      "source": [
        "print('F1 Score is: ', f1_score(y_val, pred, average = 'weighted'))\r\n",
        "\r\n",
        "# y_val is the original target value of the validation set (X_val)\r\n",
        "# pred is the predicted target value of the validation set"
      ],
      "execution_count": null,
      "outputs": [
        {
          "output_type": "stream",
          "text": [
            "F1 Score is:  0.6363982005001888\n"
          ],
          "name": "stdout"
        }
      ]
    },
    {
      "cell_type": "code",
      "metadata": {
        "id": "J4nGUY0MQ9OX"
      },
      "source": [
        "test_data = pd.read_csv('https://raw.githubusercontent.com/dphi-official/Datasets/master/hippocorpus/test_set_label.csv')"
      ],
      "execution_count": null,
      "outputs": []
    },
    {
      "cell_type": "code",
      "metadata": {
        "colab": {
          "base_uri": "https://localhost:8080/"
        },
        "id": "_lbjvg4VRQjy",
        "outputId": "3c228837-c157-4431-d983-29a4e2a2d4c8"
      },
      "source": [
        "test_data.info()"
      ],
      "execution_count": null,
      "outputs": [
        {
          "output_type": "stream",
          "text": [
            "<class 'pandas.core.frame.DataFrame'>\n",
            "RangeIndex: 2057 entries, 0 to 2056\n",
            "Data columns (total 22 columns):\n",
            " #   Column             Non-Null Count  Dtype  \n",
            "---  ------             --------------  -----  \n",
            " 0   AssignmentId       2057 non-null   object \n",
            " 1   WorkTimeInSeconds  2057 non-null   int64  \n",
            " 2   WorkerId           2057 non-null   object \n",
            " 3   annotatorAge       2051 non-null   float64\n",
            " 4   annotatorGender    2057 non-null   object \n",
            " 5   annotatorRace      2057 non-null   object \n",
            " 6   distracted         2057 non-null   object \n",
            " 7   draining           2057 non-null   object \n",
            " 8   frequency          1230 non-null   float64\n",
            " 9   importance         2018 non-null   float64\n",
            " 10  logTimeSinceEvent  2057 non-null   float64\n",
            " 11  mainEvent          2057 non-null   object \n",
            " 12  mostSurprising     2057 non-null   object \n",
            " 13  openness           2057 non-null   float64\n",
            " 14  recAgnPairId       811 non-null    object \n",
            " 15  recImgPairId       1595 non-null   object \n",
            " 16  similarity         827 non-null    float64\n",
            " 17  similarityReason   827 non-null    object \n",
            " 18  story              2057 non-null   object \n",
            " 19  stressful          2057 non-null   float64\n",
            " 20  summary            2057 non-null   object \n",
            " 21  timeSinceEvent     2057 non-null   float64\n",
            "dtypes: float64(8), int64(1), object(13)\n",
            "memory usage: 353.7+ KB\n"
          ],
          "name": "stdout"
        }
      ]
    },
    {
      "cell_type": "code",
      "metadata": {
        "id": "oBhdgIk1Rtd5"
      },
      "source": [
        "test_data = test_data.select_dtypes(exclude='object')"
      ],
      "execution_count": null,
      "outputs": []
    },
    {
      "cell_type": "code",
      "metadata": {
        "id": "a2NU-iDVRyYD"
      },
      "source": [
        "test_data.annotatorAge.fillna(test_data.annotatorAge.mean(), inplace=True)\r\n",
        "test_data.importance.fillna(test_data.importance.mean(), inplace=True)\r\n",
        "test_data.frequency.fillna(test_data.frequency.mean(), inplace=True)\r\n",
        "test_data.similarity.fillna(test_data.similarity.mean(), inplace=True)"
      ],
      "execution_count": null,
      "outputs": []
    },
    {
      "cell_type": "code",
      "metadata": {
        "id": "SZdoMYRJR2Hd"
      },
      "source": [
        "test_data = ss.fit_transform(test_data)"
      ],
      "execution_count": null,
      "outputs": []
    },
    {
      "cell_type": "code",
      "metadata": {
        "id": "qmFJ8uLdR5Mr"
      },
      "source": [
        "target = lr.predict(test_data)"
      ],
      "execution_count": null,
      "outputs": []
    },
    {
      "cell_type": "code",
      "metadata": {
        "id": "tCOWeY5HSltn"
      },
      "source": [
        "target_obj = []\r\n",
        "for item in target:\r\n",
        "    if item == 0:\r\n",
        "        target_obj.append(\"recalled\")\r\n",
        "    elif item == 1:\r\n",
        "        target_obj.append(\"imagined\")\r\n",
        "    else:\r\n",
        "        target_obj.append(\"retold\")\r\n",
        "\r\n",
        "target = np.array(target_obj)"
      ],
      "execution_count": null,
      "outputs": []
    },
    {
      "cell_type": "code",
      "metadata": {
        "colab": {
          "base_uri": "https://localhost:8080/",
          "height": 17
        },
        "id": "KDvmdLXqTA9Q",
        "outputId": "6686bbf3-c783-4a5b-da08-167c9a427bc4"
      },
      "source": [
        "# To create Dataframe of predicted value with particular respective index\r\n",
        "res = pd.DataFrame(target) # target are nothing but the final predictions of your model on input features of your new unseen test data\r\n",
        "res.columns = [\"prediction\"]\r\n",
        "\r\n",
        "# To download the csv file locally\r\n",
        "from google.colab import files\r\n",
        "res.to_csv('submission.csv')\r\n",
        "files.download('submission.csv')"
      ],
      "execution_count": null,
      "outputs": [
        {
          "output_type": "display_data",
          "data": {
            "application/javascript": [
              "\n",
              "    async function download(id, filename, size) {\n",
              "      if (!google.colab.kernel.accessAllowed) {\n",
              "        return;\n",
              "      }\n",
              "      const div = document.createElement('div');\n",
              "      const label = document.createElement('label');\n",
              "      label.textContent = `Downloading \"${filename}\": `;\n",
              "      div.appendChild(label);\n",
              "      const progress = document.createElement('progress');\n",
              "      progress.max = size;\n",
              "      div.appendChild(progress);\n",
              "      document.body.appendChild(div);\n",
              "\n",
              "      const buffers = [];\n",
              "      let downloaded = 0;\n",
              "\n",
              "      const channel = await google.colab.kernel.comms.open(id);\n",
              "      // Send a message to notify the kernel that we're ready.\n",
              "      channel.send({})\n",
              "\n",
              "      for await (const message of channel.messages) {\n",
              "        // Send a message to notify the kernel that we're ready.\n",
              "        channel.send({})\n",
              "        if (message.buffers) {\n",
              "          for (const buffer of message.buffers) {\n",
              "            buffers.push(buffer);\n",
              "            downloaded += buffer.byteLength;\n",
              "            progress.value = downloaded;\n",
              "          }\n",
              "        }\n",
              "      }\n",
              "      const blob = new Blob(buffers, {type: 'application/binary'});\n",
              "      const a = document.createElement('a');\n",
              "      a.href = window.URL.createObjectURL(blob);\n",
              "      a.download = filename;\n",
              "      div.appendChild(a);\n",
              "      a.click();\n",
              "      div.remove();\n",
              "    }\n",
              "  "
            ],
            "text/plain": [
              "<IPython.core.display.Javascript object>"
            ]
          },
          "metadata": {
            "tags": []
          }
        },
        {
          "output_type": "display_data",
          "data": {
            "application/javascript": [
              "download(\"download_81ef7db3-8ae2-4522-87c1-2c4f183ad809\", \"submission.csv\", 27398)"
            ],
            "text/plain": [
              "<IPython.core.display.Javascript object>"
            ]
          },
          "metadata": {
            "tags": []
          }
        }
      ]
    },
    {
      "cell_type": "code",
      "metadata": {
        "id": "4TloMclGTOUZ"
      },
      "source": [
        ""
      ],
      "execution_count": null,
      "outputs": []
    }
  ]
}