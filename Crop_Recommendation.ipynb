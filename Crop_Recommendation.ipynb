{
  "nbformat": 4,
  "nbformat_minor": 0,
  "metadata": {
    "colab": {
      "name": "Crop_Recommendation",
      "provenance": [],
      "authorship_tag": "ABX9TyNZZQc4x7q27h9OVov2ATe4",
      "include_colab_link": true
    },
    "kernelspec": {
      "name": "python3",
      "display_name": "Python 3"
    }
  },
  "cells": [
    {
      "cell_type": "markdown",
      "metadata": {
        "id": "view-in-github",
        "colab_type": "text"
      },
      "source": [
        "<a href=\"https://colab.research.google.com/github/ayandalab/y2k/blob/main/Crop_Recommendation.ipynb\" target=\"_parent\"><img src=\"https://colab.research.google.com/assets/colab-badge.svg\" alt=\"Open In Colab\"/></a>"
      ]
    },
    {
      "cell_type": "code",
      "metadata": {
        "id": "GzM2uCFKu_jR"
      },
      "source": [
        "import numpy as np\r\n",
        "import pandas as pd\r\n",
        "import warnings\r\n",
        "warnings.filterwarnings(\"ignore\")"
      ],
      "execution_count": 25,
      "outputs": []
    },
    {
      "cell_type": "code",
      "metadata": {
        "id": "-u3KYbe4yYQu"
      },
      "source": [
        "train_data = pd.read_csv(\"https://raw.githubusercontent.com/dphi-official/Datasets/master/crop_recommendation/train_set_label.csv\")"
      ],
      "execution_count": 26,
      "outputs": []
    },
    {
      "cell_type": "code",
      "metadata": {
        "colab": {
          "base_uri": "https://localhost:8080/",
          "height": 202
        },
        "id": "X6OxhULlyfOl",
        "outputId": "6979f7c6-b7ad-48a3-da04-85ceb254d08e"
      },
      "source": [
        "train_data.head()"
      ],
      "execution_count": 27,
      "outputs": [
        {
          "output_type": "execute_result",
          "data": {
            "text/html": [
              "<div>\n",
              "<style scoped>\n",
              "    .dataframe tbody tr th:only-of-type {\n",
              "        vertical-align: middle;\n",
              "    }\n",
              "\n",
              "    .dataframe tbody tr th {\n",
              "        vertical-align: top;\n",
              "    }\n",
              "\n",
              "    .dataframe thead th {\n",
              "        text-align: right;\n",
              "    }\n",
              "</style>\n",
              "<table border=\"1\" class=\"dataframe\">\n",
              "  <thead>\n",
              "    <tr style=\"text-align: right;\">\n",
              "      <th></th>\n",
              "      <th>N</th>\n",
              "      <th>P</th>\n",
              "      <th>K</th>\n",
              "      <th>temperature</th>\n",
              "      <th>humidity</th>\n",
              "      <th>ph</th>\n",
              "      <th>rainfall</th>\n",
              "      <th>crop</th>\n",
              "    </tr>\n",
              "  </thead>\n",
              "  <tbody>\n",
              "    <tr>\n",
              "      <th>0</th>\n",
              "      <td>17.0</td>\n",
              "      <td>136.0</td>\n",
              "      <td>196.0</td>\n",
              "      <td>23.871923</td>\n",
              "      <td>90.499390</td>\n",
              "      <td>5.882156</td>\n",
              "      <td>103.054809</td>\n",
              "      <td>apple</td>\n",
              "    </tr>\n",
              "    <tr>\n",
              "      <th>1</th>\n",
              "      <td>49.0</td>\n",
              "      <td>69.0</td>\n",
              "      <td>82.0</td>\n",
              "      <td>18.315615</td>\n",
              "      <td>15.361435</td>\n",
              "      <td>7.263119</td>\n",
              "      <td>81.787105</td>\n",
              "      <td>chickpea</td>\n",
              "    </tr>\n",
              "    <tr>\n",
              "      <th>2</th>\n",
              "      <td>74.0</td>\n",
              "      <td>49.0</td>\n",
              "      <td>38.0</td>\n",
              "      <td>23.314104</td>\n",
              "      <td>71.450905</td>\n",
              "      <td>7.488014</td>\n",
              "      <td>164.497037</td>\n",
              "      <td>jute</td>\n",
              "    </tr>\n",
              "    <tr>\n",
              "      <th>3</th>\n",
              "      <td>104.0</td>\n",
              "      <td>35.0</td>\n",
              "      <td>28.0</td>\n",
              "      <td>27.510061</td>\n",
              "      <td>50.666872</td>\n",
              "      <td>6.983732</td>\n",
              "      <td>143.995555</td>\n",
              "      <td>coffee</td>\n",
              "    </tr>\n",
              "    <tr>\n",
              "      <th>4</th>\n",
              "      <td>23.0</td>\n",
              "      <td>72.0</td>\n",
              "      <td>84.0</td>\n",
              "      <td>19.020613</td>\n",
              "      <td>17.131591</td>\n",
              "      <td>6.920251</td>\n",
              "      <td>79.926981</td>\n",
              "      <td>chickpea</td>\n",
              "    </tr>\n",
              "  </tbody>\n",
              "</table>\n",
              "</div>"
            ],
            "text/plain": [
              "       N      P      K  temperature   humidity        ph    rainfall      crop\n",
              "0   17.0  136.0  196.0    23.871923  90.499390  5.882156  103.054809     apple\n",
              "1   49.0   69.0   82.0    18.315615  15.361435  7.263119   81.787105  chickpea\n",
              "2   74.0   49.0   38.0    23.314104  71.450905  7.488014  164.497037      jute\n",
              "3  104.0   35.0   28.0    27.510061  50.666872  6.983732  143.995555    coffee\n",
              "4   23.0   72.0   84.0    19.020613  17.131591  6.920251   79.926981  chickpea"
            ]
          },
          "metadata": {
            "tags": []
          },
          "execution_count": 27
        }
      ]
    },
    {
      "cell_type": "code",
      "metadata": {
        "colab": {
          "base_uri": "https://localhost:8080/"
        },
        "id": "ZG6RkE1yynXg",
        "outputId": "b969a9bf-dc01-4497-d2c4-f12494558c5f"
      },
      "source": [
        "train_data.info()"
      ],
      "execution_count": 28,
      "outputs": [
        {
          "output_type": "stream",
          "text": [
            "<class 'pandas.core.frame.DataFrame'>\n",
            "RangeIndex: 1650 entries, 0 to 1649\n",
            "Data columns (total 8 columns):\n",
            " #   Column       Non-Null Count  Dtype  \n",
            "---  ------       --------------  -----  \n",
            " 0   N            1650 non-null   float64\n",
            " 1   P            1650 non-null   float64\n",
            " 2   K            1650 non-null   float64\n",
            " 3   temperature  1650 non-null   float64\n",
            " 4   humidity     1650 non-null   float64\n",
            " 5   ph           1650 non-null   float64\n",
            " 6   rainfall     1650 non-null   float64\n",
            " 7   crop         1650 non-null   object \n",
            "dtypes: float64(7), object(1)\n",
            "memory usage: 103.2+ KB\n"
          ],
          "name": "stdout"
        }
      ]
    },
    {
      "cell_type": "code",
      "metadata": {
        "id": "IttjPJZSzADh"
      },
      "source": [
        "from sklearn.preprocessing import LabelEncoder\r\n",
        "le = LabelEncoder()\r\n",
        "train_data.crop = le.fit_transform(train_data.crop)"
      ],
      "execution_count": 29,
      "outputs": []
    },
    {
      "cell_type": "code",
      "metadata": {
        "id": "0PsA-b1IzKd9"
      },
      "source": [
        "X = train_data.drop('crop', axis = 1) \r\n",
        "y = train_data['crop'] "
      ],
      "execution_count": 30,
      "outputs": []
    },
    {
      "cell_type": "code",
      "metadata": {
        "id": "IoS6n2GxzoVe"
      },
      "source": [
        "from sklearn.model_selection import train_test_split"
      ],
      "execution_count": 31,
      "outputs": []
    },
    {
      "cell_type": "code",
      "metadata": {
        "id": "xc_5-v3mztU5"
      },
      "source": [
        "X_train, X_val, y_train, y_val = train_test_split(X,y,test_size=0.3, random_state = 42)"
      ],
      "execution_count": 32,
      "outputs": []
    },
    {
      "cell_type": "code",
      "metadata": {
        "id": "URvYz7kt1dxF"
      },
      "source": [
        "from sklearn.linear_model import LogisticRegression"
      ],
      "execution_count": 33,
      "outputs": []
    },
    {
      "cell_type": "code",
      "metadata": {
        "id": "j0SvLcCO1md4"
      },
      "source": [
        "lr = LogisticRegression()"
      ],
      "execution_count": 34,
      "outputs": []
    },
    {
      "cell_type": "code",
      "metadata": {
        "colab": {
          "base_uri": "https://localhost:8080/"
        },
        "id": "-hqSyLqF1qzB",
        "outputId": "42b3fbe1-4c8b-4f38-964a-f51186ba0280"
      },
      "source": [
        "lr.fit(X_train, y_train)"
      ],
      "execution_count": 35,
      "outputs": [
        {
          "output_type": "execute_result",
          "data": {
            "text/plain": [
              "LogisticRegression(C=1.0, class_weight=None, dual=False, fit_intercept=True,\n",
              "                   intercept_scaling=1, l1_ratio=None, max_iter=100,\n",
              "                   multi_class='auto', n_jobs=None, penalty='l2',\n",
              "                   random_state=None, solver='lbfgs', tol=0.0001, verbose=0,\n",
              "                   warm_start=False)"
            ]
          },
          "metadata": {
            "tags": []
          },
          "execution_count": 35
        }
      ]
    },
    {
      "cell_type": "code",
      "metadata": {
        "id": "-dNRkwMy1tpC"
      },
      "source": [
        "pred = lr.predict(X_val)"
      ],
      "execution_count": 36,
      "outputs": []
    },
    {
      "cell_type": "code",
      "metadata": {
        "id": "iNKm1HmM100L"
      },
      "source": [
        "from sklearn.metrics import accuracy_score"
      ],
      "execution_count": 37,
      "outputs": []
    },
    {
      "cell_type": "code",
      "metadata": {
        "colab": {
          "base_uri": "https://localhost:8080/"
        },
        "id": "eugZcFOb1-SJ",
        "outputId": "d749bcfa-bf63-49f4-88ec-3592261e3ecc"
      },
      "source": [
        "print('Accuracy Score is: ', accuracy_score(y_val, pred))\r\n"
      ],
      "execution_count": 38,
      "outputs": [
        {
          "output_type": "stream",
          "text": [
            "Accuracy Score is:  0.9636363636363636\n"
          ],
          "name": "stdout"
        }
      ]
    },
    {
      "cell_type": "code",
      "metadata": {
        "colab": {
          "base_uri": "https://localhost:8080/"
        },
        "id": "M-USF-_A2B5o",
        "outputId": "1197f342-19d5-4a87-d9dc-fa90555f4b64"
      },
      "source": [
        "from xgboost import XGBClassifier\r\n",
        "from sklearn.metrics import accuracy_score\r\n",
        "model = XGBClassifier()\r\n",
        "model.fit(X_train, y_train)\r\n",
        "y_pred=model.predict(X_val)\r\n",
        "print(accuracy_score(y_val, y_pred))"
      ],
      "execution_count": 39,
      "outputs": [
        {
          "output_type": "stream",
          "text": [
            "0.9939393939393939\n"
          ],
          "name": "stdout"
        }
      ]
    },
    {
      "cell_type": "code",
      "metadata": {
        "colab": {
          "base_uri": "https://localhost:8080/"
        },
        "id": "BtonlwwS5N-Z",
        "outputId": "5d39769e-be7d-4020-ecfd-00581a97da39"
      },
      "source": [
        "from sklearn.ensemble import RandomForestClassifier\r\n",
        "clf = RandomForestClassifier(max_depth=25, random_state=365)\r\n",
        "clf.fit(X_train, y_train)\r\n",
        "y_pred=model.predict(X_val)\r\n",
        "print(accuracy_score(y_val, y_pred))"
      ],
      "execution_count": 40,
      "outputs": [
        {
          "output_type": "stream",
          "text": [
            "0.9939393939393939\n"
          ],
          "name": "stdout"
        }
      ]
    },
    {
      "cell_type": "code",
      "metadata": {
        "colab": {
          "base_uri": "https://localhost:8080/"
        },
        "id": "oVsU418Z5rb6",
        "outputId": "f3dec486-c31b-4de9-daca-b6312aefb5ed"
      },
      "source": [
        "from sklearn.svm import SVC\r\n",
        "from sklearn.preprocessing import StandardScaler\r\n",
        "from sklearn.pipeline import make_pipeline\r\n",
        "clf = make_pipeline(StandardScaler(), SVC(gamma='auto'))\r\n",
        "clf.fit(X_train, y_train)\r\n",
        "\r\n",
        "y_pred=model.predict(X_val)\r\n",
        "print(accuracy_score(y_val, y_pred))"
      ],
      "execution_count": 41,
      "outputs": [
        {
          "output_type": "stream",
          "text": [
            "0.9939393939393939\n"
          ],
          "name": "stdout"
        }
      ]
    },
    {
      "cell_type": "code",
      "metadata": {
        "id": "stgcWtss6db5"
      },
      "source": [
        "test_data = pd.read_csv('https://raw.githubusercontent.com/dphi-official/Datasets/master/crop_recommendation/test_set_label.csv')"
      ],
      "execution_count": 42,
      "outputs": []
    },
    {
      "cell_type": "code",
      "metadata": {
        "colab": {
          "base_uri": "https://localhost:8080/"
        },
        "id": "L51pXB6j6nhL",
        "outputId": "5582e8ce-a456-4547-e246-df927ab10ea0"
      },
      "source": [
        "test_data.info()"
      ],
      "execution_count": 43,
      "outputs": [
        {
          "output_type": "stream",
          "text": [
            "<class 'pandas.core.frame.DataFrame'>\n",
            "RangeIndex: 550 entries, 0 to 549\n",
            "Data columns (total 7 columns):\n",
            " #   Column       Non-Null Count  Dtype  \n",
            "---  ------       --------------  -----  \n",
            " 0   N            550 non-null    float64\n",
            " 1   P            550 non-null    float64\n",
            " 2   K            550 non-null    float64\n",
            " 3   temperature  550 non-null    float64\n",
            " 4   humidity     550 non-null    float64\n",
            " 5   ph           550 non-null    float64\n",
            " 6   rainfall     550 non-null    float64\n",
            "dtypes: float64(7)\n",
            "memory usage: 30.2 KB\n"
          ],
          "name": "stdout"
        }
      ]
    },
    {
      "cell_type": "code",
      "metadata": {
        "id": "fevCqOsh6qqH"
      },
      "source": [
        "target = model.predict(test_data)"
      ],
      "execution_count": 44,
      "outputs": []
    },
    {
      "cell_type": "code",
      "metadata": {
        "colab": {
          "base_uri": "https://localhost:8080/"
        },
        "id": "FCq7k_Te6ysK",
        "outputId": "2dda8ecb-1312-4007-93f7-e71f4d06a63f"
      },
      "source": [
        "target"
      ],
      "execution_count": 45,
      "outputs": [
        {
          "output_type": "execute_result",
          "data": {
            "text/plain": [
              "array([13,  6, 12, 10, 14,  5, 10,  6, 10, 10,  8, 13, 16,  1,  4, 15,  7,\n",
              "        5, 21, 14,  4, 20, 13, 11,  0, 16, 20, 21, 19, 13,  9, 14,  1, 17,\n",
              "        2,  3,  9,  4, 10, 17,  7,  7, 20,  3,  7, 18, 21, 18, 21, 12, 11,\n",
              "       12,  7, 18, 20,  9,  0,  4, 21,  0, 14,  5, 21, 14,  0,  9, 16,  7,\n",
              "       21,  4, 11, 19,  6,  0, 11,  8, 13,  6,  6, 18, 18, 13,  1,  0,  9,\n",
              "        6,  1,  3,  0, 11,  7, 16, 19,  2, 21, 13,  7,  0,  3, 16, 16, 15,\n",
              "        4,  8, 16,  6, 18,  6,  6, 12, 19,  2, 11, 13,  5,  9,  1,  4, 10,\n",
              "        8,  2,  5,  9, 14,  6, 17, 21,  4, 17,  2, 20, 13, 15, 13,  8, 14,\n",
              "       19, 18,  5,  5, 12,  8,  8,  6,  3,  3, 17, 13, 16,  0,  5, 14, 11,\n",
              "        3,  2, 10, 16,  9, 19, 17,  2, 12, 19,  8, 18, 13,  3, 15,  3, 10,\n",
              "       12,  4,  1,  5, 20, 12, 21, 21,  8,  4, 18, 17, 20, 16,  6,  2, 18,\n",
              "       12, 12,  2,  8, 16, 17, 11, 11,  6, 17, 15,  0,  5,  4, 21, 15, 15,\n",
              "        4,  3, 11, 14,  6, 15, 13, 20, 10, 20,  9,  7, 18, 10,  8,  7, 11,\n",
              "       11, 15, 12, 14,  1, 17, 20, 16,  3,  7,  1,  2, 14, 16, 15, 13, 14,\n",
              "       13,  7,  8, 15, 15, 11, 20, 19,  1,  1, 19,  4, 19, 17,  2, 21,  9,\n",
              "       14, 10,  4, 16, 21,  7,  0, 11, 16,  9,  2, 16, 18, 17, 16,  9, 10,\n",
              "        7,  8, 15, 15,  1,  2, 16, 15, 18,  7,  3, 12, 16,  5,  0,  6, 13,\n",
              "        2, 10, 16, 17,  6, 17, 10,  5,  0, 21,  1, 11, 19,  7,  8,  5, 19,\n",
              "        9, 13,  6,  3, 17, 19, 19, 21,  7,  6, 14, 21, 20,  6, 14,  9, 21,\n",
              "        1,  3,  5, 18, 13, 12, 14,  5, 20, 15, 18,  8, 21,  7,  2, 12, 21,\n",
              "        5, 20,  3,  4,  5, 14, 10,  8, 19, 18, 20,  6, 18,  1,  3,  1,  2,\n",
              "        9,  4,  7,  8, 17, 14, 11,  4,  3, 19, 15, 19,  7,  3,  9,  3,  2,\n",
              "        9,  5, 12,  7, 17,  4,  4,  0,  9, 11,  4,  1,  6, 15,  8, 20,  6,\n",
              "       19,  0,  9,  0, 12,  4, 11,  5, 12, 20, 14,  5, 19, 10,  5,  9,  7,\n",
              "       19,  9, 19, 20, 18,  3, 18, 10,  2, 12, 17,  2,  0,  6, 10,  7,  2,\n",
              "       17, 17, 18, 15, 17, 19,  1, 13, 14, 11, 14,  7, 18,  9,  0, 11,  0,\n",
              "       13,  5,  2,  5, 20,  3, 15, 14,  8,  3, 20,  9,  8, 12, 15, 16, 12,\n",
              "        1,  8, 15, 20, 21, 17,  7, 14,  5, 19,  6, 12, 10, 17, 21, 13, 12,\n",
              "        8, 20, 13, 10,  0, 18,  1,  2, 10, 10,  1, 12, 12,  0,  5, 21,  4,\n",
              "       18, 10, 10,  1,  2, 16,  1,  6,  4, 21,  0,  2, 14,  8, 11,  8, 19,\n",
              "       16, 19, 16,  9,  2, 18, 21,  1, 15, 20, 12, 17, 10, 11,  1,  9, 10,\n",
              "        2, 16,  8,  8, 17, 13,  0,  8,  2,  0, 11, 11, 13, 15,  1, 11,  3,\n",
              "       15,  3,  4,  4,  0, 14])"
            ]
          },
          "metadata": {
            "tags": []
          },
          "execution_count": 45
        }
      ]
    },
    {
      "cell_type": "code",
      "metadata": {
        "colab": {
          "base_uri": "https://localhost:8080/"
        },
        "id": "Wz3HamHs61FV",
        "outputId": "0e48d5f7-1224-48c9-c64d-df1f752b0d09"
      },
      "source": [
        "target = le.inverse_transform(target)\r\n",
        "target"
      ],
      "execution_count": 46,
      "outputs": [
        {
          "output_type": "execute_result",
          "data": {
            "text/plain": [
              "array(['mothbeans', 'cotton', 'mango', 'lentil', 'mungbean', 'coffee',\n",
              "       'lentil', 'cotton', 'lentil', 'lentil', 'jute', 'mothbeans',\n",
              "       'orange', 'banana', 'coconut', 'muskmelon', 'grapes', 'coffee',\n",
              "       'watermelon', 'mungbean', 'coconut', 'rice', 'mothbeans', 'maize',\n",
              "       'apple', 'orange', 'rice', 'watermelon', 'pomegranate',\n",
              "       'mothbeans', 'kidneybeans', 'mungbean', 'banana', 'papaya',\n",
              "       'blackgram', 'chickpea', 'kidneybeans', 'coconut', 'lentil',\n",
              "       'papaya', 'grapes', 'grapes', 'rice', 'chickpea', 'grapes',\n",
              "       'pigeonpeas', 'watermelon', 'pigeonpeas', 'watermelon', 'mango',\n",
              "       'maize', 'mango', 'grapes', 'pigeonpeas', 'rice', 'kidneybeans',\n",
              "       'apple', 'coconut', 'watermelon', 'apple', 'mungbean', 'coffee',\n",
              "       'watermelon', 'mungbean', 'apple', 'kidneybeans', 'orange',\n",
              "       'grapes', 'watermelon', 'coconut', 'maize', 'pomegranate',\n",
              "       'cotton', 'apple', 'maize', 'jute', 'mothbeans', 'cotton',\n",
              "       'cotton', 'pigeonpeas', 'pigeonpeas', 'mothbeans', 'banana',\n",
              "       'apple', 'kidneybeans', 'cotton', 'banana', 'chickpea', 'apple',\n",
              "       'maize', 'grapes', 'orange', 'pomegranate', 'blackgram',\n",
              "       'watermelon', 'mothbeans', 'grapes', 'apple', 'chickpea', 'orange',\n",
              "       'orange', 'muskmelon', 'coconut', 'jute', 'orange', 'cotton',\n",
              "       'pigeonpeas', 'cotton', 'cotton', 'mango', 'pomegranate',\n",
              "       'blackgram', 'maize', 'mothbeans', 'coffee', 'kidneybeans',\n",
              "       'banana', 'coconut', 'lentil', 'jute', 'blackgram', 'coffee',\n",
              "       'kidneybeans', 'mungbean', 'cotton', 'papaya', 'watermelon',\n",
              "       'coconut', 'papaya', 'blackgram', 'rice', 'mothbeans', 'muskmelon',\n",
              "       'mothbeans', 'jute', 'mungbean', 'pomegranate', 'pigeonpeas',\n",
              "       'coffee', 'coffee', 'mango', 'jute', 'jute', 'cotton', 'chickpea',\n",
              "       'chickpea', 'papaya', 'mothbeans', 'orange', 'apple', 'coffee',\n",
              "       'mungbean', 'maize', 'chickpea', 'blackgram', 'lentil', 'orange',\n",
              "       'kidneybeans', 'pomegranate', 'papaya', 'blackgram', 'mango',\n",
              "       'pomegranate', 'jute', 'pigeonpeas', 'mothbeans', 'chickpea',\n",
              "       'muskmelon', 'chickpea', 'lentil', 'mango', 'coconut', 'banana',\n",
              "       'coffee', 'rice', 'mango', 'watermelon', 'watermelon', 'jute',\n",
              "       'coconut', 'pigeonpeas', 'papaya', 'rice', 'orange', 'cotton',\n",
              "       'blackgram', 'pigeonpeas', 'mango', 'mango', 'blackgram', 'jute',\n",
              "       'orange', 'papaya', 'maize', 'maize', 'cotton', 'papaya',\n",
              "       'muskmelon', 'apple', 'coffee', 'coconut', 'watermelon',\n",
              "       'muskmelon', 'muskmelon', 'coconut', 'chickpea', 'maize',\n",
              "       'mungbean', 'cotton', 'muskmelon', 'mothbeans', 'rice', 'lentil',\n",
              "       'rice', 'kidneybeans', 'grapes', 'pigeonpeas', 'lentil', 'jute',\n",
              "       'grapes', 'maize', 'maize', 'muskmelon', 'mango', 'mungbean',\n",
              "       'banana', 'papaya', 'rice', 'orange', 'chickpea', 'grapes',\n",
              "       'banana', 'blackgram', 'mungbean', 'orange', 'muskmelon',\n",
              "       'mothbeans', 'mungbean', 'mothbeans', 'grapes', 'jute',\n",
              "       'muskmelon', 'muskmelon', 'maize', 'rice', 'pomegranate', 'banana',\n",
              "       'banana', 'pomegranate', 'coconut', 'pomegranate', 'papaya',\n",
              "       'blackgram', 'watermelon', 'kidneybeans', 'mungbean', 'lentil',\n",
              "       'coconut', 'orange', 'watermelon', 'grapes', 'apple', 'maize',\n",
              "       'orange', 'kidneybeans', 'blackgram', 'orange', 'pigeonpeas',\n",
              "       'papaya', 'orange', 'kidneybeans', 'lentil', 'grapes', 'jute',\n",
              "       'muskmelon', 'muskmelon', 'banana', 'blackgram', 'orange',\n",
              "       'muskmelon', 'pigeonpeas', 'grapes', 'chickpea', 'mango', 'orange',\n",
              "       'coffee', 'apple', 'cotton', 'mothbeans', 'blackgram', 'lentil',\n",
              "       'orange', 'papaya', 'cotton', 'papaya', 'lentil', 'coffee',\n",
              "       'apple', 'watermelon', 'banana', 'maize', 'pomegranate', 'grapes',\n",
              "       'jute', 'coffee', 'pomegranate', 'kidneybeans', 'mothbeans',\n",
              "       'cotton', 'chickpea', 'papaya', 'pomegranate', 'pomegranate',\n",
              "       'watermelon', 'grapes', 'cotton', 'mungbean', 'watermelon', 'rice',\n",
              "       'cotton', 'mungbean', 'kidneybeans', 'watermelon', 'banana',\n",
              "       'chickpea', 'coffee', 'pigeonpeas', 'mothbeans', 'mango',\n",
              "       'mungbean', 'coffee', 'rice', 'muskmelon', 'pigeonpeas', 'jute',\n",
              "       'watermelon', 'grapes', 'blackgram', 'mango', 'watermelon',\n",
              "       'coffee', 'rice', 'chickpea', 'coconut', 'coffee', 'mungbean',\n",
              "       'lentil', 'jute', 'pomegranate', 'pigeonpeas', 'rice', 'cotton',\n",
              "       'pigeonpeas', 'banana', 'chickpea', 'banana', 'blackgram',\n",
              "       'kidneybeans', 'coconut', 'grapes', 'jute', 'papaya', 'mungbean',\n",
              "       'maize', 'coconut', 'chickpea', 'pomegranate', 'muskmelon',\n",
              "       'pomegranate', 'grapes', 'chickpea', 'kidneybeans', 'chickpea',\n",
              "       'blackgram', 'kidneybeans', 'coffee', 'mango', 'grapes', 'papaya',\n",
              "       'coconut', 'coconut', 'apple', 'kidneybeans', 'maize', 'coconut',\n",
              "       'banana', 'cotton', 'muskmelon', 'jute', 'rice', 'cotton',\n",
              "       'pomegranate', 'apple', 'kidneybeans', 'apple', 'mango', 'coconut',\n",
              "       'maize', 'coffee', 'mango', 'rice', 'mungbean', 'coffee',\n",
              "       'pomegranate', 'lentil', 'coffee', 'kidneybeans', 'grapes',\n",
              "       'pomegranate', 'kidneybeans', 'pomegranate', 'rice', 'pigeonpeas',\n",
              "       'chickpea', 'pigeonpeas', 'lentil', 'blackgram', 'mango', 'papaya',\n",
              "       'blackgram', 'apple', 'cotton', 'lentil', 'grapes', 'blackgram',\n",
              "       'papaya', 'papaya', 'pigeonpeas', 'muskmelon', 'papaya',\n",
              "       'pomegranate', 'banana', 'mothbeans', 'mungbean', 'maize',\n",
              "       'mungbean', 'grapes', 'pigeonpeas', 'kidneybeans', 'apple',\n",
              "       'maize', 'apple', 'mothbeans', 'coffee', 'blackgram', 'coffee',\n",
              "       'rice', 'chickpea', 'muskmelon', 'mungbean', 'jute', 'chickpea',\n",
              "       'rice', 'kidneybeans', 'jute', 'mango', 'muskmelon', 'orange',\n",
              "       'mango', 'banana', 'jute', 'muskmelon', 'rice', 'watermelon',\n",
              "       'papaya', 'grapes', 'mungbean', 'coffee', 'pomegranate', 'cotton',\n",
              "       'mango', 'lentil', 'papaya', 'watermelon', 'mothbeans', 'mango',\n",
              "       'jute', 'rice', 'mothbeans', 'lentil', 'apple', 'pigeonpeas',\n",
              "       'banana', 'blackgram', 'lentil', 'lentil', 'banana', 'mango',\n",
              "       'mango', 'apple', 'coffee', 'watermelon', 'coconut', 'pigeonpeas',\n",
              "       'lentil', 'lentil', 'banana', 'blackgram', 'orange', 'banana',\n",
              "       'cotton', 'coconut', 'watermelon', 'apple', 'blackgram',\n",
              "       'mungbean', 'jute', 'maize', 'jute', 'pomegranate', 'orange',\n",
              "       'pomegranate', 'orange', 'kidneybeans', 'blackgram', 'pigeonpeas',\n",
              "       'watermelon', 'banana', 'muskmelon', 'rice', 'mango', 'papaya',\n",
              "       'lentil', 'maize', 'banana', 'kidneybeans', 'lentil', 'blackgram',\n",
              "       'orange', 'jute', 'jute', 'papaya', 'mothbeans', 'apple', 'jute',\n",
              "       'blackgram', 'apple', 'maize', 'maize', 'mothbeans', 'muskmelon',\n",
              "       'banana', 'maize', 'chickpea', 'muskmelon', 'chickpea', 'coconut',\n",
              "       'coconut', 'apple', 'mungbean'], dtype=object)"
            ]
          },
          "metadata": {
            "tags": []
          },
          "execution_count": 46
        }
      ]
    },
    {
      "cell_type": "code",
      "metadata": {
        "colab": {
          "base_uri": "https://localhost:8080/",
          "height": 17
        },
        "id": "FoxPUrf97CNV",
        "outputId": "8cb5f8dc-486a-41ee-d95d-6d582a7f9916"
      },
      "source": [
        "res = pd.DataFrame(target) \r\n",
        "res.columns = [\"prediction\"]\r\n",
        "\r\n",
        "# To download the csv file locally\r\n",
        "from google.colab import files\r\n",
        "res.to_csv('submission.csv', index = False)\r\n",
        "files.download('submission.csv')"
      ],
      "execution_count": 47,
      "outputs": [
        {
          "output_type": "display_data",
          "data": {
            "application/javascript": [
              "\n",
              "    async function download(id, filename, size) {\n",
              "      if (!google.colab.kernel.accessAllowed) {\n",
              "        return;\n",
              "      }\n",
              "      const div = document.createElement('div');\n",
              "      const label = document.createElement('label');\n",
              "      label.textContent = `Downloading \"${filename}\": `;\n",
              "      div.appendChild(label);\n",
              "      const progress = document.createElement('progress');\n",
              "      progress.max = size;\n",
              "      div.appendChild(progress);\n",
              "      document.body.appendChild(div);\n",
              "\n",
              "      const buffers = [];\n",
              "      let downloaded = 0;\n",
              "\n",
              "      const channel = await google.colab.kernel.comms.open(id);\n",
              "      // Send a message to notify the kernel that we're ready.\n",
              "      channel.send({})\n",
              "\n",
              "      for await (const message of channel.messages) {\n",
              "        // Send a message to notify the kernel that we're ready.\n",
              "        channel.send({})\n",
              "        if (message.buffers) {\n",
              "          for (const buffer of message.buffers) {\n",
              "            buffers.push(buffer);\n",
              "            downloaded += buffer.byteLength;\n",
              "            progress.value = downloaded;\n",
              "          }\n",
              "        }\n",
              "      }\n",
              "      const blob = new Blob(buffers, {type: 'application/binary'});\n",
              "      const a = document.createElement('a');\n",
              "      a.href = window.URL.createObjectURL(blob);\n",
              "      a.download = filename;\n",
              "      div.appendChild(a);\n",
              "      a.click();\n",
              "      div.remove();\n",
              "    }\n",
              "  "
            ],
            "text/plain": [
              "<IPython.core.display.Javascript object>"
            ]
          },
          "metadata": {
            "tags": []
          }
        },
        {
          "output_type": "display_data",
          "data": {
            "application/javascript": [
              "download(\"download_4cab6566-0183-4760-ae5f-92e2a15024a8\", \"submission.csv\", 4483)"
            ],
            "text/plain": [
              "<IPython.core.display.Javascript object>"
            ]
          },
          "metadata": {
            "tags": []
          }
        }
      ]
    },
    {
      "cell_type": "code",
      "metadata": {
        "id": "XYe4zB7W7KxJ"
      },
      "source": [
        ""
      ],
      "execution_count": null,
      "outputs": []
    }
  ]
}