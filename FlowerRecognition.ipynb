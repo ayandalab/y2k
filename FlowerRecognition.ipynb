{
  "nbformat": 4,
  "nbformat_minor": 0,
  "metadata": {
    "colab": {
      "name": "FlowerRecognition",
      "provenance": [],
      "collapsed_sections": [],
      "authorship_tag": "ABX9TyPvVPWmt/iKpqtmcn9uZuE1",
      "include_colab_link": true
    },
    "kernelspec": {
      "name": "python3",
      "display_name": "Python 3"
    }
  },
  "cells": [
    {
      "cell_type": "markdown",
      "metadata": {
        "id": "view-in-github",
        "colab_type": "text"
      },
      "source": [
        "<a href=\"https://colab.research.google.com/github/ayandalab/y2k/blob/main/FlowerRecognition.ipynb\" target=\"_parent\"><img src=\"https://colab.research.google.com/assets/colab-badge.svg\" alt=\"Open In Colab\"/></a>"
      ]
    },
    {
      "cell_type": "code",
      "metadata": {
        "id": "4SLrXvDrUT-r"
      },
      "source": [
        "from google_drive_downloader import GoogleDriveDownloader as gdd"
      ],
      "execution_count": null,
      "outputs": []
    },
    {
      "cell_type": "code",
      "metadata": {
        "id": "Zb1O80vHW7a7"
      },
      "source": [
        "gdd.download_file_from_google_drive(file_id='1H0rJmSBmYQoWM2w2tqy-jmX0Y2Wg6k2v',\r\n",
        "dest_path='content/flowers.zip',\r\n",
        "unzip=True)"
      ],
      "execution_count": null,
      "outputs": []
    },
    {
      "cell_type": "code",
      "metadata": {
        "id": "csRSIe7oX7bR"
      },
      "source": [
        "import pandas as pd"
      ],
      "execution_count": null,
      "outputs": []
    },
    {
      "cell_type": "code",
      "metadata": {
        "id": "RgD5kvIRVYxF"
      },
      "source": [
        "import numpy as np"
      ],
      "execution_count": null,
      "outputs": []
    },
    {
      "cell_type": "code",
      "metadata": {
        "id": "XPfNQWt_Vd0X"
      },
      "source": [
        "import tensorflow as tf \r\n",
        "import os \r\n",
        "import cv2 \r\n",
        "from sklearn.model_selection import train_test_split \r\n",
        "from sklearn.metrics import accuracy_score"
      ],
      "execution_count": null,
      "outputs": []
    },
    {
      "cell_type": "code",
      "metadata": {
        "id": "xUtKAwAZXrok"
      },
      "source": [
        "data=[]\r\n",
        "img_size=100 # Here we are taking image size as 100, but it's on you. You can take 50 or 40 or 32 and so on\r\n",
        "def create_data():\r\n",
        "    for item in ['daisy','dandelion', 'rose', 'sunflower', 'tulip']:\r\n",
        "        path='/content/content/flowers/train/'+item+\"/\"\r\n",
        "\r\n",
        "        for img in os.listdir(path):  # os.listdir gets you all the list of name of files located in the given path\r\n",
        "            try:\r\n",
        "                img_array=cv2.imread(os.path.join(path,img),cv2.IMREAD_GRAYSCALE) # converts the image to pixels and gray scales the images\r\n",
        "                new_img_array=cv2.resize(img_array,(img_size,img_size)) # resizing the images\r\n",
        "                if item == 'daisy':\r\n",
        "                    data.append([new_img_array,0])\r\n",
        "                elif item == 'dandelion':\r\n",
        "                    data.append([new_img_array, 1]) # appending the list of image pixels and respective target value (i.e. animal type) in data\r\n",
        "                elif item == 'rose':\r\n",
        "                    data.append([new_img_array, 2])\r\n",
        "                elif item == 'sunflower':\r\n",
        "                    data.append([new_img_array, 3])\r\n",
        "                elif item == 'tulip':\r\n",
        "                    data.append([new_img_array, 4])\r\n",
        "            except Exception as e:\r\n",
        "                    pass # try and except is exception handling case in python, saves you from getting errors\r\n",
        "\r\n",
        "\r\n",
        "create_data()\r\n",
        "\r\n",
        "\r\n",
        "\r\n",
        "\r\n"
      ],
      "execution_count": null,
      "outputs": []
    },
    {
      "cell_type": "code",
      "metadata": {
        "colab": {
          "base_uri": "https://localhost:8080/"
        },
        "id": "eqxv-Wys3zdA",
        "outputId": "c5f2e831-ff3c-4cf3-8f83-427b163e03e0"
      },
      "source": [
        "len(data)"
      ],
      "execution_count": null,
      "outputs": [
        {
          "output_type": "execute_result",
          "data": {
            "text/plain": [
              "2746"
            ]
          },
          "metadata": {
            "tags": []
          },
          "execution_count": 194
        }
      ]
    },
    {
      "cell_type": "code",
      "metadata": {
        "colab": {
          "base_uri": "https://localhost:8080/"
        },
        "id": "XLTKf0sF5dKe",
        "outputId": "d34882fe-3739-449d-9f81-780033c9c574"
      },
      "source": [
        "data[0]"
      ],
      "execution_count": null,
      "outputs": [
        {
          "output_type": "execute_result",
          "data": {
            "text/plain": [
              "[array([[20, 22, 29, ..., 21, 25, 27],\n",
              "        [17, 22, 25, ..., 21, 24, 27],\n",
              "        [14, 19, 24, ..., 21, 22, 27],\n",
              "        ...,\n",
              "        [11, 11, 11, ...,  8,  8,  6],\n",
              "        [11, 11, 10, ...,  8,  8,  6],\n",
              "        [11, 10, 10, ...,  8,  8,  7]], dtype=uint8), 0]"
            ]
          },
          "metadata": {
            "tags": []
          },
          "execution_count": 195
        }
      ]
    },
    {
      "cell_type": "code",
      "metadata": {
        "id": "h-ul2HFWbI0R"
      },
      "source": [
        "np.random.shuffle(data)"
      ],
      "execution_count": null,
      "outputs": []
    },
    {
      "cell_type": "code",
      "metadata": {
        "id": "-FUQu9UfwPUT"
      },
      "source": [
        "\r\n",
        "x = []\r\n",
        "y = []\r\n",
        "for image in data:\r\n",
        "    x.append(image[0])\r\n",
        "    y.append(image[1])\r\n",
        "\r\n",
        "# converting x & y to numpy array as they are list\r\n",
        "x = np.array(x)\r\n",
        "y = np.array(y)"
      ],
      "execution_count": null,
      "outputs": []
    },
    {
      "cell_type": "code",
      "metadata": {
        "colab": {
          "base_uri": "https://localhost:8080/"
        },
        "id": "gLCx3IuFwQnh",
        "outputId": "7e41de89-e983-47fd-8a56-471bc977057a"
      },
      "source": [
        "np.unique(y, return_counts=True)"
      ],
      "execution_count": null,
      "outputs": [
        {
          "output_type": "execute_result",
          "data": {
            "text/plain": [
              "(array([0, 1, 2, 3, 4]), array([501, 646, 497, 495, 607]))"
            ]
          },
          "metadata": {
            "tags": []
          },
          "execution_count": 198
        }
      ]
    },
    {
      "cell_type": "code",
      "metadata": {
        "id": "ITA4c8USwaIw"
      },
      "source": [
        "X_train, X_val, y_train, y_val = train_test_split(x,y,test_size=0.4, random_state = 43)"
      ],
      "execution_count": null,
      "outputs": []
    },
    {
      "cell_type": "code",
      "metadata": {
        "colab": {
          "base_uri": "https://localhost:8080/"
        },
        "id": "ehl5-Vc8wzwc",
        "outputId": "79f6cfbf-ea77-4645-d1c8-adc78d7700ee"
      },
      "source": [
        "# Defining the model\r\n",
        "model = tf.keras.Sequential([\r\n",
        "tf.keras.layers.Flatten(input_shape=(100, 100)), # flattening the image\r\n",
        "tf.keras.layers.Dense(100, activation='relu'),\r\n",
        "tf.keras.layers.Dense(50, activation='relu'),\r\n",
        "tf.keras.layers.Dense(5, activation='sigmoid')\r\n",
        "])\r\n",
        "\r\n",
        "model.compile(optimizer='adam',\r\n",
        "loss='sparse_categorical_crossentropy',\r\n",
        "metrics=['accuracy'])\r\n",
        "\r\n",
        "model.fit(X_train, y_train, epochs=10, batch_size=10)"
      ],
      "execution_count": null,
      "outputs": [
        {
          "output_type": "stream",
          "text": [
            "Epoch 1/10\n",
            "165/165 [==============================] - 2s 7ms/step - loss: 226.7249 - accuracy: 0.2245\n",
            "Epoch 2/10\n",
            "165/165 [==============================] - 1s 7ms/step - loss: 63.2096 - accuracy: 0.2842\n",
            "Epoch 3/10\n",
            "165/165 [==============================] - 1s 6ms/step - loss: 48.2871 - accuracy: 0.3072\n",
            "Epoch 4/10\n",
            "165/165 [==============================] - 1s 6ms/step - loss: 26.9601 - accuracy: 0.3713\n",
            "Epoch 5/10\n",
            "165/165 [==============================] - 1s 6ms/step - loss: 23.0116 - accuracy: 0.3456\n",
            "Epoch 6/10\n",
            "165/165 [==============================] - 1s 6ms/step - loss: 1.8389 - accuracy: 0.1826\n",
            "Epoch 7/10\n",
            "165/165 [==============================] - 1s 6ms/step - loss: 1.6101 - accuracy: 0.2475\n",
            "Epoch 8/10\n",
            "165/165 [==============================] - 1s 6ms/step - loss: 1.5918 - accuracy: 0.2518\n",
            "Epoch 9/10\n",
            "165/165 [==============================] - 1s 6ms/step - loss: 1.5912 - accuracy: 0.2567\n",
            "Epoch 10/10\n",
            "165/165 [==============================] - 1s 6ms/step - loss: 1.5941 - accuracy: 0.2178\n"
          ],
          "name": "stdout"
        },
        {
          "output_type": "execute_result",
          "data": {
            "text/plain": [
              "<tensorflow.python.keras.callbacks.History at 0x7f1050b95ad0>"
            ]
          },
          "metadata": {
            "tags": []
          },
          "execution_count": 200
        }
      ]
    },
    {
      "cell_type": "code",
      "metadata": {
        "colab": {
          "base_uri": "https://localhost:8080/"
        },
        "id": "2hTlgI5DxF9t",
        "outputId": "43fb3b68-08d3-4155-b160-d54503b8c80e"
      },
      "source": [
        "model.evaluate(X_val, y_val)"
      ],
      "execution_count": null,
      "outputs": [
        {
          "output_type": "stream",
          "text": [
            "35/35 [==============================] - 0s 3ms/step - loss: 1.6196 - accuracy: 0.2238\n"
          ],
          "name": "stdout"
        },
        {
          "output_type": "execute_result",
          "data": {
            "text/plain": [
              "[1.6195623874664307, 0.22383984923362732]"
            ]
          },
          "metadata": {
            "tags": []
          },
          "execution_count": 201
        }
      ]
    },
    {
      "cell_type": "code",
      "metadata": {
        "colab": {
          "base_uri": "https://localhost:8080/",
          "height": 202
        },
        "id": "HtjmmNzxxddv",
        "outputId": "542e1b50-d689-47d6-8370-a5cece37f149"
      },
      "source": [
        "# Loading the order of the image's name that has been provided\r\n",
        "test_image_order = pd.read_csv(\"/content/content/flowers/Testing_set_flower.csv\")\r\n",
        "test_image_order.head()"
      ],
      "execution_count": null,
      "outputs": [
        {
          "output_type": "execute_result",
          "data": {
            "text/html": [
              "<div>\n",
              "<style scoped>\n",
              "    .dataframe tbody tr th:only-of-type {\n",
              "        vertical-align: middle;\n",
              "    }\n",
              "\n",
              "    .dataframe tbody tr th {\n",
              "        vertical-align: top;\n",
              "    }\n",
              "\n",
              "    .dataframe thead th {\n",
              "        text-align: right;\n",
              "    }\n",
              "</style>\n",
              "<table border=\"1\" class=\"dataframe\">\n",
              "  <thead>\n",
              "    <tr style=\"text-align: right;\">\n",
              "      <th></th>\n",
              "      <th>filename</th>\n",
              "    </tr>\n",
              "  </thead>\n",
              "  <tbody>\n",
              "    <tr>\n",
              "      <th>0</th>\n",
              "      <td>Image_1.jpg</td>\n",
              "    </tr>\n",
              "    <tr>\n",
              "      <th>1</th>\n",
              "      <td>Image_2.jpg</td>\n",
              "    </tr>\n",
              "    <tr>\n",
              "      <th>2</th>\n",
              "      <td>Image_3.jpg</td>\n",
              "    </tr>\n",
              "    <tr>\n",
              "      <th>3</th>\n",
              "      <td>Image_4.jpg</td>\n",
              "    </tr>\n",
              "    <tr>\n",
              "      <th>4</th>\n",
              "      <td>Image_5.jpg</td>\n",
              "    </tr>\n",
              "  </tbody>\n",
              "</table>\n",
              "</div>"
            ],
            "text/plain": [
              "      filename\n",
              "0  Image_1.jpg\n",
              "1  Image_2.jpg\n",
              "2  Image_3.jpg\n",
              "3  Image_4.jpg\n",
              "4  Image_5.jpg"
            ]
          },
          "metadata": {
            "tags": []
          },
          "execution_count": 202
        }
      ]
    },
    {
      "cell_type": "code",
      "metadata": {
        "id": "9MPY70d8yrhK"
      },
      "source": [
        "file_paths = [[fname, '/content/content/flowers/test/' + fname] for fname in test_image_order['filename']]"
      ],
      "execution_count": null,
      "outputs": []
    },
    {
      "cell_type": "code",
      "metadata": {
        "colab": {
          "base_uri": "https://localhost:8080/",
          "height": 202
        },
        "id": "i4n1XdnIzAGs",
        "outputId": "0e25b15e-045a-4473-e08a-e2534b11398c"
      },
      "source": [
        "test_images = pd.DataFrame(file_paths, columns=['filename', 'filepaths'])\r\n",
        "test_images.head()"
      ],
      "execution_count": null,
      "outputs": [
        {
          "output_type": "execute_result",
          "data": {
            "text/html": [
              "<div>\n",
              "<style scoped>\n",
              "    .dataframe tbody tr th:only-of-type {\n",
              "        vertical-align: middle;\n",
              "    }\n",
              "\n",
              "    .dataframe tbody tr th {\n",
              "        vertical-align: top;\n",
              "    }\n",
              "\n",
              "    .dataframe thead th {\n",
              "        text-align: right;\n",
              "    }\n",
              "</style>\n",
              "<table border=\"1\" class=\"dataframe\">\n",
              "  <thead>\n",
              "    <tr style=\"text-align: right;\">\n",
              "      <th></th>\n",
              "      <th>filename</th>\n",
              "      <th>filepaths</th>\n",
              "    </tr>\n",
              "  </thead>\n",
              "  <tbody>\n",
              "    <tr>\n",
              "      <th>0</th>\n",
              "      <td>Image_1.jpg</td>\n",
              "      <td>/content/content/flowers/test/Image_1.jpg</td>\n",
              "    </tr>\n",
              "    <tr>\n",
              "      <th>1</th>\n",
              "      <td>Image_2.jpg</td>\n",
              "      <td>/content/content/flowers/test/Image_2.jpg</td>\n",
              "    </tr>\n",
              "    <tr>\n",
              "      <th>2</th>\n",
              "      <td>Image_3.jpg</td>\n",
              "      <td>/content/content/flowers/test/Image_3.jpg</td>\n",
              "    </tr>\n",
              "    <tr>\n",
              "      <th>3</th>\n",
              "      <td>Image_4.jpg</td>\n",
              "      <td>/content/content/flowers/test/Image_4.jpg</td>\n",
              "    </tr>\n",
              "    <tr>\n",
              "      <th>4</th>\n",
              "      <td>Image_5.jpg</td>\n",
              "      <td>/content/content/flowers/test/Image_5.jpg</td>\n",
              "    </tr>\n",
              "  </tbody>\n",
              "</table>\n",
              "</div>"
            ],
            "text/plain": [
              "      filename                                  filepaths\n",
              "0  Image_1.jpg  /content/content/flowers/test/Image_1.jpg\n",
              "1  Image_2.jpg  /content/content/flowers/test/Image_2.jpg\n",
              "2  Image_3.jpg  /content/content/flowers/test/Image_3.jpg\n",
              "3  Image_4.jpg  /content/content/flowers/test/Image_4.jpg\n",
              "4  Image_5.jpg  /content/content/flowers/test/Image_5.jpg"
            ]
          },
          "metadata": {
            "tags": []
          },
          "execution_count": 204
        }
      ]
    },
    {
      "cell_type": "code",
      "metadata": {
        "id": "cA5Jc72M3Qbn"
      },
      "source": [
        "test_pixel_data = [] # initialize an empty numpy array\r\n",
        "image_size = 100 # image size taken is 100 here. one can take other size too\r\n",
        "for i in range(len(test_images)):\r\n",
        "    img_array = cv2.imread(test_images['filepaths'][i], cv2.IMREAD_GRAYSCALE) # converting the image to gray scale\r\n",
        "    new_img_array = cv2.resize(img_array, (image_size, image_size)) # resizing the image array\r\n",
        "    test_pixel_data.append(new_img_array)\r\n",
        "test_pixel_data = np.array(test_pixel_data)"
      ],
      "execution_count": null,
      "outputs": []
    },
    {
      "cell_type": "code",
      "metadata": {
        "id": "yMaK7Xqh4EaY"
      },
      "source": [
        "pred = model.predict(test_pixel_data)"
      ],
      "execution_count": null,
      "outputs": []
    },
    {
      "cell_type": "code",
      "metadata": {
        "colab": {
          "base_uri": "https://localhost:8080/"
        },
        "id": "oih4IDZI4Mx8",
        "outputId": "7ec1e4a0-6272-49e1-b2b8-61883849e666"
      },
      "source": [
        "# The predicted values are the probabilities value\r\n",
        "pred[0]"
      ],
      "execution_count": null,
      "outputs": [
        {
          "output_type": "execute_result",
          "data": {
            "text/plain": [
              "array([0.47702911, 0.5287617 , 0.4858462 , 0.4802844 , 0.5223172 ],\n",
              "      dtype=float32)"
            ]
          },
          "metadata": {
            "tags": []
          },
          "execution_count": 207
        }
      ]
    },
    {
      "cell_type": "code",
      "metadata": {
        "colab": {
          "base_uri": "https://localhost:8080/"
        },
        "id": "JYDql18-4RLr",
        "outputId": "07b84b6e-ae5e-4df3-c3a7-8cdfcaadd663"
      },
      "source": [
        "np.argmax(pred[0])"
      ],
      "execution_count": null,
      "outputs": [
        {
          "output_type": "execute_result",
          "data": {
            "text/plain": [
              "1"
            ]
          },
          "metadata": {
            "tags": []
          },
          "execution_count": 208
        }
      ]
    },
    {
      "cell_type": "code",
      "metadata": {
        "id": "viAzqJMz6CDR"
      },
      "source": [
        "predictions = []\r\n",
        "for item in pred:\r\n",
        "    if np.argmax(item) == 0:\r\n",
        "        predictions.append('daisy')\r\n",
        "    elif np.argmax(item) == 1:\r\n",
        "        predictions.append('dandelion')\r\n",
        "    elif np.argmax(item) == 2:\r\n",
        "        predictions.append('rose')\r\n",
        "    elif np.argmax(item) == 3:\r\n",
        "        predictions.append('sunflower')\r\n",
        "    else:\r\n",
        "        predictions.append('tulip')"
      ],
      "execution_count": null,
      "outputs": []
    },
    {
      "cell_type": "code",
      "metadata": {
        "id": "aXQ9oEZy6O1q"
      },
      "source": [
        "\r\n",
        "res = pd.DataFrame({'prediction':predictions})"
      ],
      "execution_count": null,
      "outputs": []
    },
    {
      "cell_type": "code",
      "metadata": {
        "id": "l1qpKJV76nN1"
      },
      "source": [
        "from google.colab import files"
      ],
      "execution_count": null,
      "outputs": []
    },
    {
      "cell_type": "code",
      "metadata": {
        "id": "vCbWfywm6xiT"
      },
      "source": [
        "res.to_csv(\"FlowerRecognition.csv\", index = False)"
      ],
      "execution_count": null,
      "outputs": []
    },
    {
      "cell_type": "code",
      "metadata": {
        "colab": {
          "base_uri": "https://localhost:8080/",
          "height": 17
        },
        "id": "nc6dXyNX61TV",
        "outputId": "f65e1aae-31db-483b-ed73-b03e8512ef62"
      },
      "source": [
        "from google.colab import files\r\n",
        "files.download('FlowerRecognition.csv')"
      ],
      "execution_count": null,
      "outputs": [
        {
          "output_type": "display_data",
          "data": {
            "application/javascript": [
              "\n",
              "    async function download(id, filename, size) {\n",
              "      if (!google.colab.kernel.accessAllowed) {\n",
              "        return;\n",
              "      }\n",
              "      const div = document.createElement('div');\n",
              "      const label = document.createElement('label');\n",
              "      label.textContent = `Downloading \"${filename}\": `;\n",
              "      div.appendChild(label);\n",
              "      const progress = document.createElement('progress');\n",
              "      progress.max = size;\n",
              "      div.appendChild(progress);\n",
              "      document.body.appendChild(div);\n",
              "\n",
              "      const buffers = [];\n",
              "      let downloaded = 0;\n",
              "\n",
              "      const channel = await google.colab.kernel.comms.open(id);\n",
              "      // Send a message to notify the kernel that we're ready.\n",
              "      channel.send({})\n",
              "\n",
              "      for await (const message of channel.messages) {\n",
              "        // Send a message to notify the kernel that we're ready.\n",
              "        channel.send({})\n",
              "        if (message.buffers) {\n",
              "          for (const buffer of message.buffers) {\n",
              "            buffers.push(buffer);\n",
              "            downloaded += buffer.byteLength;\n",
              "            progress.value = downloaded;\n",
              "          }\n",
              "        }\n",
              "      }\n",
              "      const blob = new Blob(buffers, {type: 'application/binary'});\n",
              "      const a = document.createElement('a');\n",
              "      a.href = window.URL.createObjectURL(blob);\n",
              "      a.download = filename;\n",
              "      div.appendChild(a);\n",
              "      a.click();\n",
              "      div.remove();\n",
              "    }\n",
              "  "
            ],
            "text/plain": [
              "<IPython.core.display.Javascript object>"
            ]
          },
          "metadata": {
            "tags": []
          }
        },
        {
          "output_type": "display_data",
          "data": {
            "application/javascript": [
              "download(\"download_b9f36544-93e0-46b3-9671-b76fb5ca30b3\", \"FlowerRecognition.csv\", 9160)"
            ],
            "text/plain": [
              "<IPython.core.display.Javascript object>"
            ]
          },
          "metadata": {
            "tags": []
          }
        }
      ]
    },
    {
      "cell_type": "code",
      "metadata": {
        "id": "k97z_LXH7S3L"
      },
      "source": [
        ""
      ],
      "execution_count": null,
      "outputs": []
    }
  ]
}